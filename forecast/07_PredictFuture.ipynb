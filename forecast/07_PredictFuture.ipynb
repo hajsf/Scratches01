{
  "cells": [
    {
      "cell_type": "markdown",
      "metadata": {
        "colab_type": "text",
        "id": "view-in-github"
      },
      "source": [
        "<a href=\"https://colab.research.google.com/github/hajsf/Time-Series-Forecast/blob/main/07_PredictFuture.ipynb\" target=\"_parent\"><img src=\"https://colab.research.google.com/assets/colab-badge.svg\" alt=\"Open In Colab\"/></a>"
      ]
    },
    {
      "cell_type": "markdown",
      "metadata": {
        "id": "bEp9tZLZmLvl"
      },
      "source": [
        "Mount google drive"
      ]
    },
    {
      "cell_type": "code",
      "execution_count": null,
      "metadata": {
        "colab": {
          "base_uri": "https://localhost:8080/"
        },
        "id": "xCiQK9EymKri",
        "outputId": "25652d9a-9060-4b3b-85fa-c7fe87767372"
      },
      "outputs": [
        {
          "name": "stdout",
          "output_type": "stream",
          "text": [
            "Mounted at /content/drive\n"
          ]
        }
      ],
      "source": [
        "from google.colab import drive\n",
        "drive.mount('/content/drive')"
      ]
    },
    {
      "cell_type": "code",
      "execution_count": null,
      "metadata": {
        "id": "vFgtZTRq63k5"
      },
      "outputs": [],
      "source": [
        "import pandas as pd\n",
        "import glob\n",
        "import numpy as np"
      ]
    },
    {
      "cell_type": "code",
      "execution_count": null,
      "metadata": {
        "id": "h2LQvqXbpQpx"
      },
      "outputs": [],
      "source": [
        "# import required library\n",
        "import matplotlib.pyplot as plt\n",
        "import seaborn as sns\n",
        "import xgboost as xgb\n",
        "from sklearn.metrics import mean_squared_error"
      ]
    },
    {
      "cell_type": "markdown",
      "metadata": {
        "id": "ExreCoBoa1b9"
      },
      "source": [
        "**Read the csv files**\n",
        "\n",
        "\n",
        "*   Define correct seperator, tab in our example\n",
        "*   Use dtype to enforce data type mainy in casefield field has mix data types\n",
        "*   Use low_memory=False so you do not mind whatever type the undefined fields are read in they have mix data\n",
        "\n",
        "\n",
        "\n"
      ]
    },
    {
      "cell_type": "code",
      "execution_count": null,
      "metadata": {
        "id": "vrDDwi4cywry"
      },
      "outputs": [],
      "source": [
        "pathData = \"/content/drive/MyDrive/ColabNotebooks/dataset/02_ProcessedData/\"\n",
        "pathExternal = \"/content/drive/MyDrive/ColabNotebooks/dataset/03_ExternalData/\""
      ]
    },
    {
      "cell_type": "markdown",
      "metadata": {
        "id": "28VlAs8dlC96"
      },
      "source": [
        "**DATAFRAME creation**"
      ]
    },
    {
      "cell_type": "code",
      "execution_count": null,
      "metadata": {
        "id": "NIrdosR_l4wq"
      },
      "outputs": [],
      "source": [
        "import hashlib\n",
        "\n",
        "def hashSKU(s):  \n",
        "      return int(hashlib.sha1(s.encode(\"utf-8\")).hexdigest(), 16) % (10 ** 8)"
      ]
    },
    {
      "cell_type": "code",
      "execution_count": null,
      "metadata": {
        "colab": {
          "base_uri": "https://localhost:8080/"
        },
        "id": "J3MgaqpFjInB",
        "outputId": "31de92dc-40bf-420f-a534-0d87dc408323"
      },
      "outputs": [
        {
          "name": "stdout",
          "output_type": "stream",
          "text": [
            "<class 'pandas.core.frame.DataFrame'>\n",
            "Int64Index: 62 entries, 0 to 61\n",
            "Data columns (total 3 columns):\n",
            " #   Column       Non-Null Count  Dtype         \n",
            "---  ------       --------------  -----         \n",
            " 0   DATE1        62 non-null     datetime64[ns]\n",
            " 1   SLS_CNTR_ID  62 non-null     float64       \n",
            " 2   hashedSKU    62 non-null     int64         \n",
            "dtypes: datetime64[ns](1), float64(1), int64(1)\n",
            "memory usage: 1.9 KB\n"
          ]
        }
      ],
      "source": [
        "SLS = [58, 100]\n",
        "SLS = [float(i) for i in SLS]\n",
        "\n",
        "SKUs = [hashSKU(\"124766\")]\n",
        "\n",
        "df = (pd.DataFrame({'DATE1': pd.date_range('2020-08-01', '2020-08-31')})\n",
        "     .merge(pd.Series(SLS, name='SLS_CNTR_ID'), how=\"cross\")\n",
        "     .merge(pd.Series(SKUs, name='hashedSKU'), how=\"cross\"))\n",
        "\n",
        "df.info()"
      ]
    },
    {
      "cell_type": "markdown",
      "metadata": {
        "id": "jIhDOWlxlGe7"
      },
      "source": [
        "**Feature Creation**\n",
        "\n",
        "1. Hijri calendar"
      ]
    },
    {
      "cell_type": "code",
      "execution_count": null,
      "metadata": {
        "id": "sFfoRSlymuTl"
      },
      "outputs": [],
      "source": [
        "from hijri_converter import Hijri, Gregorian\n",
        "\n",
        "def hijriDate(row):  \n",
        "    y = row['DATE1'].year\n",
        "    m = row['DATE1'].month\n",
        "    d = row['DATE1'].day\n",
        "    return Gregorian(y, m, d).to_hijri()\n",
        "\n",
        "def isRamadan(dt):  \n",
        "    if dt.month == 9:\n",
        "      return 1\n",
        "    else:\n",
        "      return 0\n",
        "\n",
        "def isRamadanEnd(dt):  \n",
        "    if dt.month == 9 and dt.day >= 21:\n",
        "      return 1\n",
        "    else:\n",
        "      return 0\n",
        "\n",
        "def isEid(dt):  \n",
        "    if (dt.month == 10 and dt.day < 4) or (dt.month == 12 and dt.day < 9 and dt.day > 14):\n",
        "      return 1\n",
        "    else:\n",
        "      return 0"
      ]
    },
    {
      "cell_type": "markdown",
      "metadata": {
        "id": "jNx1vpZXnEzU"
      },
      "source": [
        "2. Gregorian calendar"
      ]
    },
    {
      "cell_type": "code",
      "execution_count": null,
      "metadata": {
        "id": "IPSkuu2znPvO"
      },
      "outputs": [],
      "source": [
        "def isWeekend(dt):  \n",
        "    if dt.weekday() == 4 or dt.weekday() == 5: # Monday is 0\n",
        "      return 1\n",
        "    else:\n",
        "      return 0\n",
        "\n",
        "def isSalaryweek(dt):  \n",
        "    if dt.day >= 25:\n",
        "      return 1\n",
        "    else:\n",
        "      return 0\n",
        "\n",
        "def isNationalday(dt):  \n",
        "    if (dt.month == 2 and dt.day == 22) or (dt.month == 9 and dt.day == 23) :\n",
        "      return 1\n",
        "    else:\n",
        "      return 0"
      ]
    },
    {
      "cell_type": "markdown",
      "metadata": {
        "id": "rxEWdtUdndm5"
      },
      "source": [
        "3. Assign features related to calendar DATE1"
      ]
    },
    {
      "cell_type": "code",
      "execution_count": null,
      "metadata": {
        "id": "YbZRtuWonlI-"
      },
      "outputs": [],
      "source": [
        "df['dayofyear'] = df['DATE1'].apply(lambda dt: dt.dayofyear)\n",
        "df['Monthday'] = df['DATE1'].apply(lambda dt: dt.day)\n",
        "df['Weekday'] = df['DATE1'].apply(lambda dt: dt.dayofweek)\n",
        "df['weekofyear'] = df['DATE1'].apply(lambda dt: dt.week)\n",
        "df['month'] = df['DATE1'].apply(lambda dt: dt.month)\n",
        "df['quarter'] = df['DATE1'].apply(lambda dt: dt.quarter)\n",
        "\n",
        "df['isSalaryweek'] = df['DATE1'].apply(lambda dt: isSalaryweek(dt))\n",
        "df['isWeekend'] = df['DATE1'].apply(lambda dt: isWeekend(dt))\n",
        "df['isNationalday'] = df['DATE1'].apply(lambda dt: isNationalday(dt))\n",
        "\n",
        "df['hijri'] = df.apply(lambda row: hijriDate(row), axis=1)\n",
        "df['isRamadan'] = df['hijri'].apply(lambda dt: isRamadan(dt))\n",
        "df['isRamadanEnd'] = df['hijri'].apply(lambda dt: isRamadanEnd(dt))\n",
        "df['isEid'] = df['hijri'].apply(lambda dt: isEid(dt))\n",
        "\n",
        "df = df.drop(columns=['hijri'])"
      ]
    },
    {
      "cell_type": "code",
      "execution_count": null,
      "metadata": {
        "id": "SB6gVUtro8dL"
      },
      "outputs": [],
      "source": [
        "calenderFeatures = pd.read_csv(pathExternal +'calenderFeatures.csv', sep=',', lineterminator='\\r', low_memory=False)\n",
        "calenderFeatures = calenderFeatures.replace('\\n','', regex=True)\n",
        "calenderFeatures['DATE1'] = pd.to_datetime(calenderFeatures['DATE1'], format='%Y-%m-%d %H:%M:%S')\n",
        "df = pd.merge(df, \n",
        "              calenderFeatures, \n",
        "              on =['DATE1'], \n",
        "              how ='inner')"
      ]
    },
    {
      "cell_type": "code",
      "execution_count": null,
      "metadata": {
        "colab": {
          "base_uri": "https://localhost:8080/"
        },
        "id": "uZ7KCeSZpRts",
        "outputId": "88a03566-e9cc-4921-bbd5-11ce87f83f28"
      },
      "outputs": [
        {
          "data": {
            "text/plain": [
              "CL_1        float64\n",
              "Category     object\n",
              "dtype: object"
            ]
          },
          "execution_count": 33,
          "metadata": {},
          "output_type": "execute_result"
        }
      ],
      "source": [
        "Categories = pd.read_csv(pathExternal +'Categories.csv', sep=',', lineterminator='\\r', low_memory=False)\n",
        "Categories = Categories.replace('\\n','', regex=True)\n",
        "Categories[['CL_1']] = Categories[['CL_1']].astype(float, errors = 'raise')\n",
        "Categories = Categories[['CL_1','Category']]\n",
        "Categories = Categories.reset_index()\n",
        "Categories = Categories.drop(columns=['index'])\n",
        "Categories = Categories.dropna(subset=['Category']) \n",
        "Categories.dtypes"
      ]
    },
    {
      "cell_type": "code",
      "execution_count": null,
      "metadata": {
        "colab": {
          "base_uri": "https://localhost:8080/"
        },
        "id": "WERR5t8hqojb",
        "outputId": "e20a329b-e031-4182-f646-dea2333042e0"
      },
      "outputs": [
        {
          "data": {
            "text/plain": [
              "ITEM_ID     object\n",
              "Category    object\n",
              "dtype: object"
            ]
          },
          "execution_count": 37,
          "metadata": {},
          "output_type": "execute_result"
        }
      ],
      "source": [
        "SKUcategory = pd.read_csv(pathExternal +'ITEMS_MASTER.csv', sep='\\t', lineterminator='\\r', low_memory=False)\n",
        "SKUcategory = SKUcategory.replace('\\n','', regex=True)\n",
        "SKUcategory[['ITEM_ID']] = SKUcategory[['ITEM_ID']].astype(str, errors = 'raise')\n",
        "SKUcategory = SKUcategory.reset_index()\n",
        "SKUcategory = SKUcategory.drop(columns=['index'])\n",
        "SKUcategory = pd.merge(SKUcategory, \n",
        "              Categories, \n",
        "              on =['CL_1'], \n",
        "              how ='inner')\n",
        "SKUcategory = SKUcategory[['ITEM_ID','Category']]\n",
        "SKUcategory.dtypes"
      ]
    },
    {
      "cell_type": "code",
      "execution_count": null,
      "metadata": {
        "id": "1RkSVvwQr_R2"
      },
      "outputs": [],
      "source": [
        "oneHot = (pd.get_dummies(SKUcategory.Category, prefix='Category').reset_index())\n",
        "SKUcategory = SKUcategory.join(oneHot)\n",
        "SKUcategory = SKUcategory.drop(columns=['Category', 'index'])"
      ]
    },
    {
      "cell_type": "code",
      "execution_count": null,
      "metadata": {
        "id": "SmwG2RRKs11R"
      },
      "outputs": [],
      "source": [
        "SKUcategory['hashedSKU'] = SKUcategory['ITEM_ID'].apply(lambda s: hashSKU(s))"
      ]
    },
    {
      "cell_type": "code",
      "execution_count": null,
      "metadata": {
        "id": "95NLsEN_sojd"
      },
      "outputs": [],
      "source": [
        "SKUcategory = SKUcategory.drop(columns=['ITEM_ID'])"
      ]
    },
    {
      "cell_type": "code",
      "execution_count": null,
      "metadata": {
        "id": "P_twy8mHsXLq"
      },
      "outputs": [],
      "source": [
        "df = pd.merge(df, \n",
        "              SKUcategory, \n",
        "              on =['hashedSKU'], \n",
        "              how ='inner')"
      ]
    },
    {
      "cell_type": "code",
      "execution_count": null,
      "metadata": {
        "id": "7eGpoGh61C_O"
      },
      "outputs": [],
      "source": [
        "FEATURES = list(df.columns.values)\n",
        "print('number of features:', len(FEATURES))\n",
        "FEATURES"
      ]
    },
    {
      "cell_type": "markdown",
      "metadata": {
        "id": "ipQ93iejtVLk"
      },
      "source": [
        "**Load Model**"
      ]
    },
    {
      "cell_type": "code",
      "execution_count": null,
      "metadata": {
        "colab": {
          "base_uri": "https://localhost:8080/"
        },
        "id": "FJAtadZmtXWu",
        "outputId": "953f9b0b-7c49-4505-e2a1-2492803e7edb"
      },
      "outputs": [
        {
          "name": "stdout",
          "output_type": "stream",
          "text": [
            "model: XGBRegressor(base_score=0.05, early_stopping_rounds=50, learning_rate=0.001,\n",
            "             max_depth=10, missing=nan, n_estimators=1000,\n",
            "             objective='reg:squarederror', random_state=5)\n"
          ]
        }
      ],
      "source": [
        "import pickle\n",
        "with open(pathData + 'model.pk', 'rb') as f:\n",
        "  model = pickle.load(f)\n",
        "print(\"model:\", model)"
      ]
    },
    {
      "cell_type": "markdown",
      "metadata": {
        "id": "tk6gYu1Ftyym"
      },
      "source": [
        "**Predict Future**"
      ]
    },
    {
      "cell_type": "code",
      "execution_count": null,
      "metadata": {
        "id": "zVLPoE3Vt51s"
      },
      "outputs": [],
      "source": [
        "df = df.drop(columns=['ForecastedQty'])"
      ]
    },
    {
      "cell_type": "code",
      "execution_count": null,
      "metadata": {
        "id": "zlMdzsy9uN1u"
      },
      "outputs": [],
      "source": [
        "df.dtypes"
      ]
    },
    {
      "cell_type": "code",
      "execution_count": null,
      "metadata": {
        "id": "IGFhOAHWuvgb"
      },
      "outputs": [],
      "source": [
        "df.set_index(\"DATE1\", inplace = True)"
      ]
    },
    {
      "cell_type": "code",
      "execution_count": null,
      "metadata": {
        "colab": {
          "base_uri": "https://localhost:8080/"
        },
        "id": "PvqPERqwwAqW",
        "outputId": "85228213-15bc-4607-b24f-48c064d4dc2b"
      },
      "outputs": [
        {
          "name": "stdout",
          "output_type": "stream",
          "text": [
            "number of features: 28\n"
          ]
        },
        {
          "data": {
            "text/plain": [
              "['SLS_CNTR_ID',\n",
              " 'hashedSKU',\n",
              " 'dayofyear',\n",
              " 'Monthday',\n",
              " 'Weekday',\n",
              " 'weekofyear',\n",
              " 'month',\n",
              " 'quarter',\n",
              " 'isSalaryweek',\n",
              " 'isWeekend',\n",
              " 'isNationalday',\n",
              " 'isRamadan',\n",
              " 'isRamadanEnd',\n",
              " 'isEid',\n",
              " 'Holiday',\n",
              " 'AcademicCalendarSemester',\n",
              " 'Category_Brand',\n",
              " 'Category_Brand2',\n",
              " 'Category_Cancelled',\n",
              " 'Category_HomeMade',\n",
              " 'Category_HomeMadewithVAT',\n",
              " 'Category_Imported',\n",
              " 'Category_Itproducts',\n",
              " 'Category_Local',\n",
              " 'Category_Packaging',\n",
              " 'Category_Partner',\n",
              " 'Category_RawMaterial',\n",
              " 'Category_SisterCompany']"
            ]
          },
          "execution_count": 61,
          "metadata": {},
          "output_type": "execute_result"
        }
      ],
      "source": []
    },
    {
      "cell_type": "code",
      "execution_count": null,
      "metadata": {
        "colab": {
          "base_uri": "https://localhost:8080/",
          "height": 433
        },
        "id": "8aUXunV1uAhi",
        "outputId": "66b71ba8-bfb8-42e3-9fb9-d8a66023dbc3"
      },
      "outputs": [
        {
          "ename": "ValueError",
          "evalue": "ignored",
          "output_type": "error",
          "traceback": [
            "\u001b[0;31m---------------------------------------------------------------------------\u001b[0m",
            "\u001b[0;31mValueError\u001b[0m                                Traceback (most recent call last)",
            "\u001b[0;32m<ipython-input-56-0eb19aeed28a>\u001b[0m in \u001b[0;36m<module>\u001b[0;34m()\u001b[0m\n\u001b[0;32m----> 1\u001b[0;31m \u001b[0mdf\u001b[0m\u001b[0;34m[\u001b[0m\u001b[0;34m'ForecastedQty'\u001b[0m\u001b[0;34m]\u001b[0m \u001b[0;34m=\u001b[0m \u001b[0mmodel\u001b[0m\u001b[0;34m.\u001b[0m\u001b[0mpredict\u001b[0m\u001b[0;34m(\u001b[0m\u001b[0mdf\u001b[0m\u001b[0;34m)\u001b[0m\u001b[0;34m\u001b[0m\u001b[0;34m\u001b[0m\u001b[0m\n\u001b[0m",
            "\u001b[0;32m/usr/local/lib/python3.7/dist-packages/xgboost/sklearn.py\u001b[0m in \u001b[0;36mpredict\u001b[0;34m(self, data, output_margin, ntree_limit, validate_features)\u001b[0m\n\u001b[1;32m    454\u001b[0m                                           \u001b[0moutput_margin\u001b[0m\u001b[0;34m=\u001b[0m\u001b[0moutput_margin\u001b[0m\u001b[0;34m,\u001b[0m\u001b[0;34m\u001b[0m\u001b[0;34m\u001b[0m\u001b[0m\n\u001b[1;32m    455\u001b[0m                                           \u001b[0mntree_limit\u001b[0m\u001b[0;34m=\u001b[0m\u001b[0mntree_limit\u001b[0m\u001b[0;34m,\u001b[0m\u001b[0;34m\u001b[0m\u001b[0;34m\u001b[0m\u001b[0m\n\u001b[0;32m--> 456\u001b[0;31m                                           validate_features=validate_features)\n\u001b[0m\u001b[1;32m    457\u001b[0m \u001b[0;34m\u001b[0m\u001b[0m\n\u001b[1;32m    458\u001b[0m     \u001b[0;32mdef\u001b[0m \u001b[0mapply\u001b[0m\u001b[0;34m(\u001b[0m\u001b[0mself\u001b[0m\u001b[0;34m,\u001b[0m \u001b[0mX\u001b[0m\u001b[0;34m,\u001b[0m \u001b[0mntree_limit\u001b[0m\u001b[0;34m=\u001b[0m\u001b[0;36m0\u001b[0m\u001b[0;34m)\u001b[0m\u001b[0;34m:\u001b[0m\u001b[0;34m\u001b[0m\u001b[0;34m\u001b[0m\u001b[0m\n",
            "\u001b[0;32m/usr/local/lib/python3.7/dist-packages/xgboost/core.py\u001b[0m in \u001b[0;36mpredict\u001b[0;34m(self, data, output_margin, ntree_limit, pred_leaf, pred_contribs, approx_contribs, pred_interactions, validate_features)\u001b[0m\n\u001b[1;32m   1282\u001b[0m \u001b[0;34m\u001b[0m\u001b[0m\n\u001b[1;32m   1283\u001b[0m         \u001b[0;32mif\u001b[0m \u001b[0mvalidate_features\u001b[0m\u001b[0;34m:\u001b[0m\u001b[0;34m\u001b[0m\u001b[0;34m\u001b[0m\u001b[0m\n\u001b[0;32m-> 1284\u001b[0;31m             \u001b[0mself\u001b[0m\u001b[0;34m.\u001b[0m\u001b[0m_validate_features\u001b[0m\u001b[0;34m(\u001b[0m\u001b[0mdata\u001b[0m\u001b[0;34m)\u001b[0m\u001b[0;34m\u001b[0m\u001b[0;34m\u001b[0m\u001b[0m\n\u001b[0m\u001b[1;32m   1285\u001b[0m \u001b[0;34m\u001b[0m\u001b[0m\n\u001b[1;32m   1286\u001b[0m         \u001b[0mlength\u001b[0m \u001b[0;34m=\u001b[0m \u001b[0mc_bst_ulong\u001b[0m\u001b[0;34m(\u001b[0m\u001b[0;34m)\u001b[0m\u001b[0;34m\u001b[0m\u001b[0;34m\u001b[0m\u001b[0m\n",
            "\u001b[0;32m/usr/local/lib/python3.7/dist-packages/xgboost/core.py\u001b[0m in \u001b[0;36m_validate_features\u001b[0;34m(self, data)\u001b[0m\n\u001b[1;32m   1688\u001b[0m \u001b[0;34m\u001b[0m\u001b[0m\n\u001b[1;32m   1689\u001b[0m                 raise ValueError(msg.format(self.feature_names,\n\u001b[0;32m-> 1690\u001b[0;31m                                             data.feature_names))\n\u001b[0m\u001b[1;32m   1691\u001b[0m \u001b[0;34m\u001b[0m\u001b[0m\n\u001b[1;32m   1692\u001b[0m     \u001b[0;32mdef\u001b[0m \u001b[0mget_split_value_histogram\u001b[0m\u001b[0;34m(\u001b[0m\u001b[0mself\u001b[0m\u001b[0;34m,\u001b[0m \u001b[0mfeature\u001b[0m\u001b[0;34m,\u001b[0m \u001b[0mfmap\u001b[0m\u001b[0;34m=\u001b[0m\u001b[0;34m''\u001b[0m\u001b[0;34m,\u001b[0m \u001b[0mbins\u001b[0m\u001b[0;34m=\u001b[0m\u001b[0;32mNone\u001b[0m\u001b[0;34m,\u001b[0m \u001b[0mas_pandas\u001b[0m\u001b[0;34m=\u001b[0m\u001b[0;32mTrue\u001b[0m\u001b[0;34m)\u001b[0m\u001b[0;34m:\u001b[0m\u001b[0;34m\u001b[0m\u001b[0;34m\u001b[0m\u001b[0m\n",
            "\u001b[0;31mValueError\u001b[0m: feature_names mismatch: ['SLS_CNTR_ID', 'isSalaryweek', 'AcademicCalendarSemester', 'isWeekend', 'isRamadan', 'isRamadanEnd', 'isEid', 'isNationalday'] ['SLS_CNTR_ID', 'hashedSKU', 'dayofyear', 'Monthday', 'Weekday', 'weekofyear', 'month', 'quarter', 'isSalaryweek', 'isWeekend', 'isNationalday', 'isRamadan', 'isRamadanEnd', 'isEid', 'Holiday', 'AcademicCalendarSemester', 'Category_Brand', 'Category_Brand2', 'Category_Cancelled', 'Category_HomeMade', 'Category_HomeMadewithVAT', 'Category_Imported', 'Category_Itproducts', 'Category_Local', 'Category_Packaging', 'Category_Partner', 'Category_RawMaterial', 'Category_SisterCompany']\ntraining data did not have the following fields: quarter, Holiday, dayofyear, hashedSKU, Category_HomeMadewithVAT, Category_Cancelled, Category_Packaging, Category_Imported, Weekday, Category_RawMaterial, Category_HomeMade, weekofyear, Category_Local, Category_Brand, Monthday, Category_SisterCompany, Category_Itproducts, Category_Partner, Category_Brand2, month"
          ]
        }
      ],
      "source": [
        "df['ForecastedQty'] = model.predict(df)"
      ]
    },
    {
      "cell_type": "markdown",
      "metadata": {
        "id": "w-3yu3Gmu_T-"
      },
      "source": [
        "**Draw Chart**"
      ]
    },
    {
      "cell_type": "code",
      "execution_count": null,
      "metadata": {
        "id": "rcWeJOOku-MW"
      },
      "outputs": [],
      "source": [
        "#data = data.reset_index()"
      ]
    },
    {
      "cell_type": "code",
      "execution_count": null,
      "metadata": {
        "id": "_vmH6OKRvFKn"
      },
      "outputs": [],
      "source": [
        "import matplotlib.pyplot as plt\n",
        "fig, ax = plt.subplots(figsize=(25, 5))\n",
        "plt.plot(data.index.get_level_values('DATE1'), data['ForecastedQty'])\n",
        "plt.ylabel('Forecast Qty')\n",
        "\n",
        "plt.ylim([5, 15]) #ymax is your value\n",
        "# or as below (same applicable for xlim):\n",
        "#plt.ylim(bottom=5) #ymin is your value\n",
        "#plt.ylim(top=7) #ymax is your value\n",
        "print('Toal forecasted quantity =', data['ForecastedQty'].sum())\n",
        "\n",
        "plt.title(\"Daily Forecast\")\n",
        "plt.show()"
      ]
    }
  ],
  "metadata": {
    "accelerator": "GPU",
    "colab": {
      "collapsed_sections": [],
      "include_colab_link": true,
      "name": "07_PredictFuture",
      "provenance": []
    },
    "kernelspec": {
      "display_name": "Python 3.10.6 64-bit",
      "language": "python",
      "name": "python3"
    },
    "language_info": {
      "name": "python",
      "version": "3.10.6"
    },
    "vscode": {
      "interpreter": {
        "hash": "bc0b001817e7c413849f11d839b6737d98e9ccaa76f82aa50099d6dc45da22d0"
      }
    }
  },
  "nbformat": 4,
  "nbformat_minor": 0
}
