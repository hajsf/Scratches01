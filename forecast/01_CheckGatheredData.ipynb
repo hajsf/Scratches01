{
  "cells": [
    {
      "cell_type": "markdown",
      "metadata": {
        "colab_type": "text",
        "id": "view-in-github"
      },
      "source": [
        "<a href=\"https://colab.research.google.com/github/hajsf/Time-Series-Forecast/blob/main/01_CheckGatheredData.ipynb\" target=\"_parent\"><img src=\"https://colab.research.google.com/assets/colab-badge.svg\" alt=\"Open In Colab\"/></a>"
      ]
    },
    {
      "cell_type": "markdown",
      "metadata": {},
      "source": [
        "Update pip"
      ]
    },
    {
      "cell_type": "code",
      "execution_count": null,
      "metadata": {},
      "outputs": [],
      "source": [
        "!python.exe -m pip install --upgrade pip"
      ]
    },
    {
      "cell_type": "markdown",
      "metadata": {},
      "source": [
        "Install required packages"
      ]
    },
    {
      "cell_type": "code",
      "execution_count": null,
      "metadata": {},
      "outputs": [],
      "source": [
        "!pip install pandas\n",
        "!pip install numpy\n",
        "!pip install matplotlib\n",
        "!pip install seaborn"
      ]
    },
    {
      "cell_type": "markdown",
      "metadata": {},
      "source": [
        "Import required packages"
      ]
    },
    {
      "cell_type": "code",
      "execution_count": 1,
      "metadata": {},
      "outputs": [],
      "source": [
        "import pandas as pd \n",
        "import numpy as np\n",
        "import pickle #no need to install, it is part of the standard library"
      ]
    },
    {
      "cell_type": "markdown",
      "metadata": {},
      "source": [
        "Ploting libraries"
      ]
    },
    {
      "cell_type": "code",
      "execution_count": 2,
      "metadata": {},
      "outputs": [],
      "source": [
        "import matplotlib.pyplot as plt\n",
        "import seaborn as sns"
      ]
    },
    {
      "cell_type": "markdown",
      "metadata": {
        "id": "ExreCoBoa1b9"
      },
      "source": [
        "**Read the csv files**\n",
        "\n",
        "\n",
        "*   Define correct seperator, tab in our example\n",
        "*   Use dtype to enforce data type mainy in casefield field has mix data types\n",
        "*   Use low_memory=False so you do not mind whatever type the undefined fields are read in they have mix data\n",
        "\n",
        "\n",
        "\n"
      ]
    },
    {
      "cell_type": "code",
      "execution_count": 3,
      "metadata": {
        "id": "vrDDwi4cywry"
      },
      "outputs": [],
      "source": [
        "path = \"data/\""
      ]
    },
    {
      "cell_type": "code",
      "execution_count": 59,
      "metadata": {
        "id": "JEQGNUFy01py"
      },
      "outputs": [],
      "source": [
        "file = '2022Sales'\n",
        "#file = '2021Sales'\n",
        "#file = '2020Sales'\n",
        "#file = '2019Sales'\n",
        "#file = '20161718Sales'"
      ]
    },
    {
      "cell_type": "code",
      "execution_count": 60,
      "metadata": {
        "id": "bSn40j76mKrz"
      },
      "outputs": [
        {
          "ename": "FileNotFoundError",
          "evalue": "[Errno 2] No such file or directory: 'data/2022Sales.csv'",
          "output_type": "error",
          "traceback": [
            "\u001b[1;31m---------------------------------------------------------------------------\u001b[0m",
            "\u001b[1;31mFileNotFoundError\u001b[0m                         Traceback (most recent call last)",
            "\u001b[1;32md:\\Deployment\\forecast\\01_CheckGatheredData.ipynb Cell 13\u001b[0m in \u001b[0;36m<cell line: 1>\u001b[1;34m()\u001b[0m\n\u001b[1;32m----> <a href='vscode-notebook-cell:/d%3A/Deployment/forecast/01_CheckGatheredData.ipynb#X15sZmlsZQ%3D%3D?line=0'>1</a>\u001b[0m data \u001b[39m=\u001b[39m pd\u001b[39m.\u001b[39;49mread_csv(path \u001b[39m+\u001b[39;49m file \u001b[39m+\u001b[39;49m \u001b[39m'\u001b[39;49m\u001b[39m.csv\u001b[39;49m\u001b[39m'\u001b[39;49m, sep\u001b[39m=\u001b[39;49m\u001b[39m'\u001b[39;49m\u001b[39m\\t\u001b[39;49;00m\u001b[39m'\u001b[39;49m, lineterminator\u001b[39m=\u001b[39;49m\u001b[39m'\u001b[39;49m\u001b[39m\\r\u001b[39;49;00m\u001b[39m'\u001b[39;49m, low_memory\u001b[39m=\u001b[39;49m\u001b[39mFalse\u001b[39;49;00m)\n",
            "File \u001b[1;32mc:\\Users\\hasan.y\\AppData\\Local\\Programs\\Python\\Python310\\lib\\site-packages\\pandas\\util\\_decorators.py:311\u001b[0m, in \u001b[0;36mdeprecate_nonkeyword_arguments.<locals>.decorate.<locals>.wrapper\u001b[1;34m(*args, **kwargs)\u001b[0m\n\u001b[0;32m    305\u001b[0m \u001b[39mif\u001b[39;00m \u001b[39mlen\u001b[39m(args) \u001b[39m>\u001b[39m num_allow_args:\n\u001b[0;32m    306\u001b[0m     warnings\u001b[39m.\u001b[39mwarn(\n\u001b[0;32m    307\u001b[0m         msg\u001b[39m.\u001b[39mformat(arguments\u001b[39m=\u001b[39marguments),\n\u001b[0;32m    308\u001b[0m         \u001b[39mFutureWarning\u001b[39;00m,\n\u001b[0;32m    309\u001b[0m         stacklevel\u001b[39m=\u001b[39mstacklevel,\n\u001b[0;32m    310\u001b[0m     )\n\u001b[1;32m--> 311\u001b[0m \u001b[39mreturn\u001b[39;00m func(\u001b[39m*\u001b[39margs, \u001b[39m*\u001b[39m\u001b[39m*\u001b[39mkwargs)\n",
            "File \u001b[1;32mc:\\Users\\hasan.y\\AppData\\Local\\Programs\\Python\\Python310\\lib\\site-packages\\pandas\\io\\parsers\\readers.py:680\u001b[0m, in \u001b[0;36mread_csv\u001b[1;34m(filepath_or_buffer, sep, delimiter, header, names, index_col, usecols, squeeze, prefix, mangle_dupe_cols, dtype, engine, converters, true_values, false_values, skipinitialspace, skiprows, skipfooter, nrows, na_values, keep_default_na, na_filter, verbose, skip_blank_lines, parse_dates, infer_datetime_format, keep_date_col, date_parser, dayfirst, cache_dates, iterator, chunksize, compression, thousands, decimal, lineterminator, quotechar, quoting, doublequote, escapechar, comment, encoding, encoding_errors, dialect, error_bad_lines, warn_bad_lines, on_bad_lines, delim_whitespace, low_memory, memory_map, float_precision, storage_options)\u001b[0m\n\u001b[0;32m    665\u001b[0m kwds_defaults \u001b[39m=\u001b[39m _refine_defaults_read(\n\u001b[0;32m    666\u001b[0m     dialect,\n\u001b[0;32m    667\u001b[0m     delimiter,\n\u001b[1;32m   (...)\u001b[0m\n\u001b[0;32m    676\u001b[0m     defaults\u001b[39m=\u001b[39m{\u001b[39m\"\u001b[39m\u001b[39mdelimiter\u001b[39m\u001b[39m\"\u001b[39m: \u001b[39m\"\u001b[39m\u001b[39m,\u001b[39m\u001b[39m\"\u001b[39m},\n\u001b[0;32m    677\u001b[0m )\n\u001b[0;32m    678\u001b[0m kwds\u001b[39m.\u001b[39mupdate(kwds_defaults)\n\u001b[1;32m--> 680\u001b[0m \u001b[39mreturn\u001b[39;00m _read(filepath_or_buffer, kwds)\n",
            "File \u001b[1;32mc:\\Users\\hasan.y\\AppData\\Local\\Programs\\Python\\Python310\\lib\\site-packages\\pandas\\io\\parsers\\readers.py:575\u001b[0m, in \u001b[0;36m_read\u001b[1;34m(filepath_or_buffer, kwds)\u001b[0m\n\u001b[0;32m    572\u001b[0m _validate_names(kwds\u001b[39m.\u001b[39mget(\u001b[39m\"\u001b[39m\u001b[39mnames\u001b[39m\u001b[39m\"\u001b[39m, \u001b[39mNone\u001b[39;00m))\n\u001b[0;32m    574\u001b[0m \u001b[39m# Create the parser.\u001b[39;00m\n\u001b[1;32m--> 575\u001b[0m parser \u001b[39m=\u001b[39m TextFileReader(filepath_or_buffer, \u001b[39m*\u001b[39m\u001b[39m*\u001b[39mkwds)\n\u001b[0;32m    577\u001b[0m \u001b[39mif\u001b[39;00m chunksize \u001b[39mor\u001b[39;00m iterator:\n\u001b[0;32m    578\u001b[0m     \u001b[39mreturn\u001b[39;00m parser\n",
            "File \u001b[1;32mc:\\Users\\hasan.y\\AppData\\Local\\Programs\\Python\\Python310\\lib\\site-packages\\pandas\\io\\parsers\\readers.py:934\u001b[0m, in \u001b[0;36mTextFileReader.__init__\u001b[1;34m(self, f, engine, **kwds)\u001b[0m\n\u001b[0;32m    931\u001b[0m     \u001b[39mself\u001b[39m\u001b[39m.\u001b[39moptions[\u001b[39m\"\u001b[39m\u001b[39mhas_index_names\u001b[39m\u001b[39m\"\u001b[39m] \u001b[39m=\u001b[39m kwds[\u001b[39m\"\u001b[39m\u001b[39mhas_index_names\u001b[39m\u001b[39m\"\u001b[39m]\n\u001b[0;32m    933\u001b[0m \u001b[39mself\u001b[39m\u001b[39m.\u001b[39mhandles: IOHandles \u001b[39m|\u001b[39m \u001b[39mNone\u001b[39;00m \u001b[39m=\u001b[39m \u001b[39mNone\u001b[39;00m\n\u001b[1;32m--> 934\u001b[0m \u001b[39mself\u001b[39m\u001b[39m.\u001b[39m_engine \u001b[39m=\u001b[39m \u001b[39mself\u001b[39;49m\u001b[39m.\u001b[39;49m_make_engine(f, \u001b[39mself\u001b[39;49m\u001b[39m.\u001b[39;49mengine)\n",
            "File \u001b[1;32mc:\\Users\\hasan.y\\AppData\\Local\\Programs\\Python\\Python310\\lib\\site-packages\\pandas\\io\\parsers\\readers.py:1218\u001b[0m, in \u001b[0;36mTextFileReader._make_engine\u001b[1;34m(self, f, engine)\u001b[0m\n\u001b[0;32m   1214\u001b[0m     mode \u001b[39m=\u001b[39m \u001b[39m\"\u001b[39m\u001b[39mrb\u001b[39m\u001b[39m\"\u001b[39m\n\u001b[0;32m   1215\u001b[0m \u001b[39m# error: No overload variant of \"get_handle\" matches argument types\u001b[39;00m\n\u001b[0;32m   1216\u001b[0m \u001b[39m# \"Union[str, PathLike[str], ReadCsvBuffer[bytes], ReadCsvBuffer[str]]\"\u001b[39;00m\n\u001b[0;32m   1217\u001b[0m \u001b[39m# , \"str\", \"bool\", \"Any\", \"Any\", \"Any\", \"Any\", \"Any\"\u001b[39;00m\n\u001b[1;32m-> 1218\u001b[0m \u001b[39mself\u001b[39m\u001b[39m.\u001b[39mhandles \u001b[39m=\u001b[39m get_handle(  \u001b[39m# type: ignore[call-overload]\u001b[39;49;00m\n\u001b[0;32m   1219\u001b[0m     f,\n\u001b[0;32m   1220\u001b[0m     mode,\n\u001b[0;32m   1221\u001b[0m     encoding\u001b[39m=\u001b[39;49m\u001b[39mself\u001b[39;49m\u001b[39m.\u001b[39;49moptions\u001b[39m.\u001b[39;49mget(\u001b[39m\"\u001b[39;49m\u001b[39mencoding\u001b[39;49m\u001b[39m\"\u001b[39;49m, \u001b[39mNone\u001b[39;49;00m),\n\u001b[0;32m   1222\u001b[0m     compression\u001b[39m=\u001b[39;49m\u001b[39mself\u001b[39;49m\u001b[39m.\u001b[39;49moptions\u001b[39m.\u001b[39;49mget(\u001b[39m\"\u001b[39;49m\u001b[39mcompression\u001b[39;49m\u001b[39m\"\u001b[39;49m, \u001b[39mNone\u001b[39;49;00m),\n\u001b[0;32m   1223\u001b[0m     memory_map\u001b[39m=\u001b[39;49m\u001b[39mself\u001b[39;49m\u001b[39m.\u001b[39;49moptions\u001b[39m.\u001b[39;49mget(\u001b[39m\"\u001b[39;49m\u001b[39mmemory_map\u001b[39;49m\u001b[39m\"\u001b[39;49m, \u001b[39mFalse\u001b[39;49;00m),\n\u001b[0;32m   1224\u001b[0m     is_text\u001b[39m=\u001b[39;49mis_text,\n\u001b[0;32m   1225\u001b[0m     errors\u001b[39m=\u001b[39;49m\u001b[39mself\u001b[39;49m\u001b[39m.\u001b[39;49moptions\u001b[39m.\u001b[39;49mget(\u001b[39m\"\u001b[39;49m\u001b[39mencoding_errors\u001b[39;49m\u001b[39m\"\u001b[39;49m, \u001b[39m\"\u001b[39;49m\u001b[39mstrict\u001b[39;49m\u001b[39m\"\u001b[39;49m),\n\u001b[0;32m   1226\u001b[0m     storage_options\u001b[39m=\u001b[39;49m\u001b[39mself\u001b[39;49m\u001b[39m.\u001b[39;49moptions\u001b[39m.\u001b[39;49mget(\u001b[39m\"\u001b[39;49m\u001b[39mstorage_options\u001b[39;49m\u001b[39m\"\u001b[39;49m, \u001b[39mNone\u001b[39;49;00m),\n\u001b[0;32m   1227\u001b[0m )\n\u001b[0;32m   1228\u001b[0m \u001b[39massert\u001b[39;00m \u001b[39mself\u001b[39m\u001b[39m.\u001b[39mhandles \u001b[39mis\u001b[39;00m \u001b[39mnot\u001b[39;00m \u001b[39mNone\u001b[39;00m\n\u001b[0;32m   1229\u001b[0m f \u001b[39m=\u001b[39m \u001b[39mself\u001b[39m\u001b[39m.\u001b[39mhandles\u001b[39m.\u001b[39mhandle\n",
            "File \u001b[1;32mc:\\Users\\hasan.y\\AppData\\Local\\Programs\\Python\\Python310\\lib\\site-packages\\pandas\\io\\common.py:786\u001b[0m, in \u001b[0;36mget_handle\u001b[1;34m(path_or_buf, mode, encoding, compression, memory_map, is_text, errors, storage_options)\u001b[0m\n\u001b[0;32m    781\u001b[0m \u001b[39melif\u001b[39;00m \u001b[39misinstance\u001b[39m(handle, \u001b[39mstr\u001b[39m):\n\u001b[0;32m    782\u001b[0m     \u001b[39m# Check whether the filename is to be opened in binary mode.\u001b[39;00m\n\u001b[0;32m    783\u001b[0m     \u001b[39m# Binary mode does not support 'encoding' and 'newline'.\u001b[39;00m\n\u001b[0;32m    784\u001b[0m     \u001b[39mif\u001b[39;00m ioargs\u001b[39m.\u001b[39mencoding \u001b[39mand\u001b[39;00m \u001b[39m\"\u001b[39m\u001b[39mb\u001b[39m\u001b[39m\"\u001b[39m \u001b[39mnot\u001b[39;00m \u001b[39min\u001b[39;00m ioargs\u001b[39m.\u001b[39mmode:\n\u001b[0;32m    785\u001b[0m         \u001b[39m# Encoding\u001b[39;00m\n\u001b[1;32m--> 786\u001b[0m         handle \u001b[39m=\u001b[39m \u001b[39mopen\u001b[39;49m(\n\u001b[0;32m    787\u001b[0m             handle,\n\u001b[0;32m    788\u001b[0m             ioargs\u001b[39m.\u001b[39;49mmode,\n\u001b[0;32m    789\u001b[0m             encoding\u001b[39m=\u001b[39;49mioargs\u001b[39m.\u001b[39;49mencoding,\n\u001b[0;32m    790\u001b[0m             errors\u001b[39m=\u001b[39;49merrors,\n\u001b[0;32m    791\u001b[0m             newline\u001b[39m=\u001b[39;49m\u001b[39m\"\u001b[39;49m\u001b[39m\"\u001b[39;49m,\n\u001b[0;32m    792\u001b[0m         )\n\u001b[0;32m    793\u001b[0m     \u001b[39melse\u001b[39;00m:\n\u001b[0;32m    794\u001b[0m         \u001b[39m# Binary mode\u001b[39;00m\n\u001b[0;32m    795\u001b[0m         handle \u001b[39m=\u001b[39m \u001b[39mopen\u001b[39m(handle, ioargs\u001b[39m.\u001b[39mmode)\n",
            "\u001b[1;31mFileNotFoundError\u001b[0m: [Errno 2] No such file or directory: 'data/2022Sales.csv'"
          ]
        }
      ],
      "source": [
        "data = pd.read_csv(path + file + '.csv', sep='\\t', lineterminator='\\r', low_memory=False) # , dtype={\"DATE1\": 'string', \"SLS_CNTR_ID\": \"string\", \"ITEM_ID\": \"string\"}"
      ]
    },
    {
      "cell_type": "markdown",
      "metadata": {
        "id": "f9ke9QN9zQdp"
      },
      "source": [
        "Review data structure and scheme"
      ]
    },
    {
      "cell_type": "code",
      "execution_count": 47,
      "metadata": {
        "id": "ljJlXw_SzL0X"
      },
      "outputs": [
        {
          "name": "stdout",
          "output_type": "stream",
          "text": [
            "number of records: 2248780\n",
            "data shape: (2248780, 67)\n",
            "  ST_TYPE       ST_ID                    DATE1  CUR_ID   SRL   ITEM_ID  \\\n",
            "0    \\n58  58012823.0  2021-08-16 00:00:00.000     1.0  28.0    372707   \n",
            "1    \\n58  58012787.0  2021-08-15 00:00:00.000     1.0  20.0    372707   \n",
            "2    \\n58  58012754.0  2021-08-14 00:00:00.000     1.0  21.0    372707   \n",
            "3    \\n58  58001050.0  2021-01-18 00:00:00.000     1.0  24.0  10050399   \n",
            "4    \\n58  58001514.0  2021-01-26 00:00:00.000     1.0   6.0     ms301   \n",
            "\n",
            "              ITEM_NAME  QTY  FREE_QTY  QTY_ALL  ...             USR_INS_DATE  \\\n",
            "0  ام غيداء ورق عنب مكس  1.0       0.0      1.0  ...  2021-08-17 10:13:58.000   \n",
            "1  ام غيداء ورق عنب مكس  1.0       0.0      1.0  ...  2021-08-16 10:28:59.000   \n",
            "2  ام غيداء ورق عنب مكس  1.0       0.0      1.0  ...  2021-08-15 10:38:43.000   \n",
            "3         فطائر ام فارس  1.0       0.0      1.0  ...  2021-01-19 14:03:04.000   \n",
            "4    ورق عنب my kitchen  1.0       0.0      1.0  ...  2021-01-27 19:06:39.000   \n",
            "\n",
            "   USR_UPD  USR_UPD_DATE  DISCNT1  DISCNT2  DISCNT3  AUTO_PUR_ID  QTY_UNIT  \\\n",
            "0      NaN           NaN      0.0      0.0      0.0          NaN       1.0   \n",
            "1      NaN           NaN      0.0      0.0      0.0          NaN       1.0   \n",
            "2      NaN           NaN      0.0      0.0      0.0          NaN       1.0   \n",
            "3      NaN           NaN      0.0      0.0      0.0          NaN       1.0   \n",
            "4      NaN           NaN      0.0      0.0      0.0          NaN       1.0   \n",
            "\n",
            "   PRICE_UNIT  CST_UNIT  \n",
            "0        20.0      15.0  \n",
            "1        20.0      15.0  \n",
            "2        20.0      15.0  \n",
            "3        20.0      15.0  \n",
            "4        20.0      15.0  \n",
            "\n",
            "[5 rows x 67 columns]\n",
            "        ST_TYPE       ST_ID                    DATE1  CUR_ID    SRL ITEM_ID  \\\n",
            "2248775    \\n58  58010889.0  2021-06-19 00:00:00.000     1.0  121.0  125159   \n",
            "2248776    \\n58  58010726.0  2021-06-14 00:00:00.000     1.0   64.0  125159   \n",
            "2248777    \\n58  58010986.0  2021-06-22 00:00:00.000     1.0   91.0  125159   \n",
            "2248778    \\n58  58011446.0  2021-07-05 00:00:00.000     1.0  162.0  125159   \n",
            "2248779      \\n         NaN                      NaN     NaN    NaN     NaN   \n",
            "\n",
            "                      ITEM_NAME  QTY  FREE_QTY  QTY_ALL  ...  \\\n",
            "2248775  كريب دانتيل مكس   قطوف  1.0       0.0      1.0  ...   \n",
            "2248776  كريب دانتيل مكس   قطوف  1.0       0.0      1.0  ...   \n",
            "2248777  كريب دانتيل مكس   قطوف  1.0       0.0      1.0  ...   \n",
            "2248778  كريب دانتيل مكس   قطوف  1.0       0.0      1.0  ...   \n",
            "2248779                     NaN  NaN       NaN      NaN  ...   \n",
            "\n",
            "                    USR_INS_DATE  USR_UPD  USR_UPD_DATE   DISCNT1  DISCNT2  \\\n",
            "2248775  2021-06-20 11:12:33.000      NaN           NaN  3.826087      0.0   \n",
            "2248776  2021-06-15 13:52:55.000      NaN           NaN  3.826087      0.0   \n",
            "2248777  2021-06-23 11:09:33.000      NaN           NaN  3.826087      0.0   \n",
            "2248778  2021-07-06 11:44:18.000      NaN           NaN  3.826087      0.0   \n",
            "2248779                      NaN      NaN           NaN       NaN      NaN   \n",
            "\n",
            "         DISCNT3  AUTO_PUR_ID  QTY_UNIT  PRICE_UNIT  CST_UNIT  \n",
            "2248775      0.0          NaN       1.0    38.26087      22.0  \n",
            "2248776      0.0          NaN       1.0    38.26087      22.0  \n",
            "2248777      0.0          NaN       1.0    38.26087      22.0  \n",
            "2248778      0.0          NaN       1.0    38.26087      22.0  \n",
            "2248779      NaN          NaN       NaN         NaN       NaN  \n",
            "\n",
            "[5 rows x 67 columns]\n",
            "*** data scheme ***\n",
            "<class 'pandas.core.frame.DataFrame'>\n",
            "RangeIndex: 2248780 entries, 0 to 2248779\n",
            "Data columns (total 67 columns):\n",
            " #   Column          Dtype  \n",
            "---  ------          -----  \n",
            " 0   ST_TYPE         object \n",
            " 1   ST_ID           float64\n",
            " 2   DATE1           object \n",
            " 3   CUR_ID          float64\n",
            " 4   SRL             float64\n",
            " 5   ITEM_ID         object \n",
            " 6   ITEM_NAME       object \n",
            " 7   QTY             float64\n",
            " 8   FREE_QTY        float64\n",
            " 9   QTY_ALL         float64\n",
            " 10  HW_MNY          float64\n",
            " 11  CST             float64\n",
            " 12  PRICE           float64\n",
            " 13  TTL_VAL_B4_DIS  float64\n",
            " 14  DISCNT          float64\n",
            " 15  TTL_VAL         float64\n",
            " 16  TTL_CST         float64\n",
            " 17  GN              float64\n",
            " 18  GN_PR           float64\n",
            " 19  EX_PR           float64\n",
            " 20  CUS_ID          float64\n",
            " 21  CUS_NAME        object \n",
            " 22  ADRS            object \n",
            " 23  CUS_MOBILE      object \n",
            " 24  CUS_CASH_ID     float64\n",
            " 25  ACC_ID          float64\n",
            " 26  SLS_CNTR_ID     float64\n",
            " 27  BR_ID           float64\n",
            " 28  ST_TP           float64\n",
            " 29  BARCODE         object \n",
            " 30  BATCH_NO        float64\n",
            " 31  SEASON_ID       float64\n",
            " 32  DESCR           object \n",
            " 33  POSTED          float64\n",
            " 34  FRM_WHID        float64\n",
            " 35  SPL_ID          float64\n",
            " 36  SPL_INV_NO      object \n",
            " 37  CL_1            float64\n",
            " 38  CL_2            float64\n",
            " 39  CL_3            float64\n",
            " 40  CL_4            float64\n",
            " 41  CL_5            float64\n",
            " 42  CL_ALL          float64\n",
            " 43  FRM_WHID1       float64\n",
            " 44  MKH_ID          float64\n",
            " 45  SLS_MAN_ID      float64\n",
            " 46  SLS_MAN_ID_DT   float64\n",
            " 47  UNIT            object \n",
            " 48  OPN_BAL         float64\n",
            " 49  OPN_COST_L      float64\n",
            " 50  CURNT_COST_L    float64\n",
            " 51  MAIN_UNIT       object \n",
            " 52  PRICE1          float64\n",
            " 53  SRVS_IT         float64\n",
            " 54  FIXD_BOUNS      float64\n",
            " 55  CST_ID          float64\n",
            " 56  USR_INS         float64\n",
            " 57  USR_INS_DATE    object \n",
            " 58  USR_UPD         float64\n",
            " 59  USR_UPD_DATE    object \n",
            " 60  DISCNT1         float64\n",
            " 61  DISCNT2         float64\n",
            " 62  DISCNT3         float64\n",
            " 63  AUTO_PUR_ID     float64\n",
            " 64  QTY_UNIT        float64\n",
            " 65  PRICE_UNIT      float64\n",
            " 66  CST_UNIT        float64\n",
            "dtypes: float64(53), object(14)\n",
            "memory usage: 1.1+ GB\n",
            "None\n"
          ]
        }
      ],
      "source": [
        "print(\"number of records:\", len(data))\n",
        "print(\"data shape:\", data.shape) # shape = rows x colums\n",
        "print(data.head(5)) # print first 5 rows\n",
        "print(data.tail(5)) # print last 5 rows\n",
        "print(\"*** data scheme ***\")\n",
        "print(data.info())  # data scheme"
      ]
    },
    {
      "cell_type": "markdown",
      "metadata": {
        "id": "8k1o--3a65XJ"
      },
      "source": [
        "Drop / filter out rows in the dataframe with column ITEM_ID values NA/NAN"
      ]
    },
    {
      "cell_type": "code",
      "execution_count": 48,
      "metadata": {
        "colab": {
          "base_uri": "https://localhost:8080/",
          "height": 206
        },
        "id": "8BrnSn5p5ojs",
        "outputId": "c5c52568-30dc-4ea5-f1b2-c357bb3a0785"
      },
      "outputs": [
        {
          "data": {
            "text/html": [
              "<div>\n",
              "<style scoped>\n",
              "    .dataframe tbody tr th:only-of-type {\n",
              "        vertical-align: middle;\n",
              "    }\n",
              "\n",
              "    .dataframe tbody tr th {\n",
              "        vertical-align: top;\n",
              "    }\n",
              "\n",
              "    .dataframe thead th {\n",
              "        text-align: right;\n",
              "    }\n",
              "</style>\n",
              "<table border=\"1\" class=\"dataframe\">\n",
              "  <thead>\n",
              "    <tr style=\"text-align: right;\">\n",
              "      <th></th>\n",
              "      <th>DATE1</th>\n",
              "      <th>SLS_CNTR_ID</th>\n",
              "      <th>ITEM_ID</th>\n",
              "      <th>QTY</th>\n",
              "      <th>TTL_VAL</th>\n",
              "      <th>TTL_CST</th>\n",
              "    </tr>\n",
              "  </thead>\n",
              "  <tbody>\n",
              "    <tr>\n",
              "      <th>0</th>\n",
              "      <td>2021-08-16 00:00:00.000</td>\n",
              "      <td>68.0</td>\n",
              "      <td>372707</td>\n",
              "      <td>1.0</td>\n",
              "      <td>20.0</td>\n",
              "      <td>15.0</td>\n",
              "    </tr>\n",
              "    <tr>\n",
              "      <th>1</th>\n",
              "      <td>2021-08-15 00:00:00.000</td>\n",
              "      <td>67.0</td>\n",
              "      <td>372707</td>\n",
              "      <td>1.0</td>\n",
              "      <td>20.0</td>\n",
              "      <td>15.0</td>\n",
              "    </tr>\n",
              "    <tr>\n",
              "      <th>2</th>\n",
              "      <td>2021-08-14 00:00:00.000</td>\n",
              "      <td>62.0</td>\n",
              "      <td>372707</td>\n",
              "      <td>1.0</td>\n",
              "      <td>20.0</td>\n",
              "      <td>15.0</td>\n",
              "    </tr>\n",
              "    <tr>\n",
              "      <th>3</th>\n",
              "      <td>2021-01-18 00:00:00.000</td>\n",
              "      <td>100.0</td>\n",
              "      <td>10050399</td>\n",
              "      <td>1.0</td>\n",
              "      <td>20.0</td>\n",
              "      <td>15.0</td>\n",
              "    </tr>\n",
              "    <tr>\n",
              "      <th>4</th>\n",
              "      <td>2021-01-26 00:00:00.000</td>\n",
              "      <td>67.0</td>\n",
              "      <td>ms301</td>\n",
              "      <td>1.0</td>\n",
              "      <td>20.0</td>\n",
              "      <td>15.0</td>\n",
              "    </tr>\n",
              "  </tbody>\n",
              "</table>\n",
              "</div>"
            ],
            "text/plain": [
              "                     DATE1  SLS_CNTR_ID   ITEM_ID  QTY  TTL_VAL  TTL_CST\n",
              "0  2021-08-16 00:00:00.000         68.0    372707  1.0     20.0     15.0\n",
              "1  2021-08-15 00:00:00.000         67.0    372707  1.0     20.0     15.0\n",
              "2  2021-08-14 00:00:00.000         62.0    372707  1.0     20.0     15.0\n",
              "3  2021-01-18 00:00:00.000        100.0  10050399  1.0     20.0     15.0\n",
              "4  2021-01-26 00:00:00.000         67.0     ms301  1.0     20.0     15.0"
            ]
          },
          "execution_count": 48,
          "metadata": {},
          "output_type": "execute_result"
        }
      ],
      "source": [
        "cols_to_keep = ['DATE1','SLS_CNTR_ID', 'ITEM_ID', 'QTY', 'TTL_VAL', 'TTL_CST']\n",
        "# data = data.loc[:, cols_to_keep]\n",
        "data = data[cols_to_keep]\n",
        "#data = data.reset_index()\n",
        "data.head()"
      ]
    },
    {
      "cell_type": "code",
      "execution_count": null,
      "metadata": {},
      "outputs": [],
      "source": [
        "data.groupby([pd.TimeGrouper('M'), 'status']).sum()"
      ]
    },
    {
      "cell_type": "code",
      "execution_count": 49,
      "metadata": {
        "id": "slD6NJPV7Atu"
      },
      "outputs": [],
      "source": [
        "# Drop rows that has NaN values on selected columns\n",
        "data = data.dropna(subset=['DATE1','SLS_CNTR_ID', 'ITEM_ID', 'TTL_VAL', 'TTL_CST']) \n",
        "# data = data[data['ITEM_ID'].notnull()] # data.head(-1) # will hide last 1 row only\n",
        "#True"
      ]
    },
    {
      "cell_type": "markdown",
      "metadata": {
        "id": "oA8CLe1z7bSu"
      },
      "source": [
        "Replace NAN by 0, if something else required then check it case by case"
      ]
    },
    {
      "cell_type": "code",
      "execution_count": 50,
      "metadata": {
        "colab": {
          "base_uri": "https://localhost:8080/"
        },
        "id": "1j95w_Xb7lBK",
        "outputId": "e9614abe-ab24-4c15-cf6e-614c36d94475"
      },
      "outputs": [
        {
          "data": {
            "text/plain": [
              "True"
            ]
          },
          "execution_count": 50,
          "metadata": {},
          "output_type": "execute_result"
        }
      ],
      "source": [
        "# replace NAN with 0\n",
        "# If some fields are enforced to be string type, will get error: Cannot set non-string value '0' into a StringArray.\n",
        "data.replace(np.nan, 0)\n",
        "True"
      ]
    },
    {
      "cell_type": "markdown",
      "metadata": {
        "id": "I2HxohXMzjtE"
      },
      "source": [
        "Select the features required from tha data scheme and Convert required fields to the required format"
      ]
    },
    {
      "cell_type": "code",
      "execution_count": 51,
      "metadata": {
        "colab": {
          "base_uri": "https://localhost:8080/"
        },
        "id": "ewtUPXJg7evi",
        "outputId": "c1f6fd1b-72b9-4bd5-ff69-6c47bebaf44b"
      },
      "outputs": [
        {
          "data": {
            "text/plain": [
              "True"
            ]
          },
          "execution_count": 51,
          "metadata": {},
          "output_type": "execute_result"
        }
      ],
      "source": [
        "data['DATE1'] = pd.to_datetime(data['DATE1'], format='%Y-%m-%d %H:%M:%S') # format used in the file: '2022-01-01 0:00:00'\n",
        "data['DATE1'].dt.date # remove time from date\n",
        "# SLS_CNTER_ID may be read as float, so we need to confirm it is read as integer\n",
        "data['SLS_CNTR_ID'] = data['SLS_CNTR_ID'].fillna(0).astype(int)\n",
        "# ITEM_ID is mix of strings and numbers, so same ID (for example 95) could be read as integer and as text,\n",
        "# which yields to 2 indexed rather than one, so we convert everything to string\n",
        "data['ITEM_ID'] = data['ITEM_ID'].astype(str)\n",
        "True"
      ]
    },
    {
      "cell_type": "code",
      "execution_count": 52,
      "metadata": {
        "colab": {
          "base_uri": "https://localhost:8080/"
        },
        "id": "KTcJk8XgUWp_",
        "outputId": "811b1ee7-697d-4a08-afc4-266179e655ee"
      },
      "outputs": [
        {
          "data": {
            "text/html": [
              "<div>\n",
              "<style scoped>\n",
              "    .dataframe tbody tr th:only-of-type {\n",
              "        vertical-align: middle;\n",
              "    }\n",
              "\n",
              "    .dataframe tbody tr th {\n",
              "        vertical-align: top;\n",
              "    }\n",
              "\n",
              "    .dataframe thead th {\n",
              "        text-align: right;\n",
              "    }\n",
              "</style>\n",
              "<table border=\"1\" class=\"dataframe\">\n",
              "  <thead>\n",
              "    <tr style=\"text-align: right;\">\n",
              "      <th></th>\n",
              "      <th></th>\n",
              "      <th></th>\n",
              "      <th>QTY</th>\n",
              "      <th>TTL_VAL</th>\n",
              "      <th>TTL_CST</th>\n",
              "    </tr>\n",
              "    <tr>\n",
              "      <th>ITEM_ID</th>\n",
              "      <th>SLS_CNTR_ID</th>\n",
              "      <th>DATE1</th>\n",
              "      <th></th>\n",
              "      <th></th>\n",
              "      <th></th>\n",
              "    </tr>\n",
              "  </thead>\n",
              "  <tbody>\n",
              "    <tr>\n",
              "      <th rowspan=\"5\" valign=\"top\">0020</th>\n",
              "      <th rowspan=\"5\" valign=\"top\">13</th>\n",
              "      <th>2021-01-03</th>\n",
              "      <td>1.0</td>\n",
              "      <td>35.0</td>\n",
              "      <td>26.25</td>\n",
              "    </tr>\n",
              "    <tr>\n",
              "      <th>2021-01-08</th>\n",
              "      <td>1.0</td>\n",
              "      <td>35.0</td>\n",
              "      <td>26.25</td>\n",
              "    </tr>\n",
              "    <tr>\n",
              "      <th>2021-01-12</th>\n",
              "      <td>1.0</td>\n",
              "      <td>35.0</td>\n",
              "      <td>26.25</td>\n",
              "    </tr>\n",
              "    <tr>\n",
              "      <th>2021-01-14</th>\n",
              "      <td>1.0</td>\n",
              "      <td>35.0</td>\n",
              "      <td>26.25</td>\n",
              "    </tr>\n",
              "    <tr>\n",
              "      <th>2021-01-17</th>\n",
              "      <td>1.0</td>\n",
              "      <td>35.0</td>\n",
              "      <td>26.25</td>\n",
              "    </tr>\n",
              "  </tbody>\n",
              "</table>\n",
              "</div>"
            ],
            "text/plain": [
              "                                QTY  TTL_VAL  TTL_CST\n",
              "ITEM_ID SLS_CNTR_ID DATE1                            \n",
              "0020    13          2021-01-03  1.0     35.0    26.25\n",
              "                    2021-01-08  1.0     35.0    26.25\n",
              "                    2021-01-12  1.0     35.0    26.25\n",
              "                    2021-01-14  1.0     35.0    26.25\n",
              "                    2021-01-17  1.0     35.0    26.25"
            ]
          },
          "execution_count": 52,
          "metadata": {},
          "output_type": "execute_result"
        }
      ],
      "source": [
        "# Aggregate to avoid duplicate entry issue\n",
        "df = data.groupby(['ITEM_ID', 'SLS_CNTR_ID', 'DATE1']).agg({'QTY': \"sum\", \"TTL_VAL\":\"sum\", \"TTL_CST\":\"sum\"})\n",
        "df.sort_index(inplace=True)\n",
        "#df = df.reset_index()\n",
        "df.head()\n",
        "#True"
      ]
    },
    {
      "cell_type": "code",
      "execution_count": 53,
      "metadata": {},
      "outputs": [
        {
          "data": {
            "text/plain": [
              "QTY        float64\n",
              "TTL_VAL    float64\n",
              "TTL_CST    float64\n",
              "dtype: object"
            ]
          },
          "execution_count": 53,
          "metadata": {},
          "output_type": "execute_result"
        }
      ],
      "source": [
        "df.dtypes"
      ]
    },
    {
      "cell_type": "markdown",
      "metadata": {
        "id": "wbQQ2soBoDFr"
      },
      "source": [
        "Test some data to ensure everything is read correctly"
      ]
    },
    {
      "cell_type": "code",
      "execution_count": 54,
      "metadata": {},
      "outputs": [
        {
          "data": {
            "text/html": [
              "<div>\n",
              "<style scoped>\n",
              "    .dataframe tbody tr th:only-of-type {\n",
              "        vertical-align: middle;\n",
              "    }\n",
              "\n",
              "    .dataframe tbody tr th {\n",
              "        vertical-align: top;\n",
              "    }\n",
              "\n",
              "    .dataframe thead th {\n",
              "        text-align: right;\n",
              "    }\n",
              "</style>\n",
              "<table border=\"1\" class=\"dataframe\">\n",
              "  <thead>\n",
              "    <tr style=\"text-align: right;\">\n",
              "      <th></th>\n",
              "      <th></th>\n",
              "      <th></th>\n",
              "      <th>QTY</th>\n",
              "      <th>TTL_VAL</th>\n",
              "      <th>TTL_CST</th>\n",
              "    </tr>\n",
              "    <tr>\n",
              "      <th>ITEM_ID</th>\n",
              "      <th>SLS_CNTR_ID</th>\n",
              "      <th>DATE1</th>\n",
              "      <th></th>\n",
              "      <th></th>\n",
              "      <th></th>\n",
              "    </tr>\n",
              "  </thead>\n",
              "  <tbody>\n",
              "    <tr>\n",
              "      <th>011810029</th>\n",
              "      <th>4</th>\n",
              "      <th>2021-01-09</th>\n",
              "      <td>2.0</td>\n",
              "      <td>60.000000</td>\n",
              "      <td>51.0</td>\n",
              "    </tr>\n",
              "    <tr>\n",
              "      <th rowspan=\"4\" valign=\"top\">0119042512</th>\n",
              "      <th rowspan=\"4\" valign=\"top\">4</th>\n",
              "      <th>2021-03-26</th>\n",
              "      <td>4.0</td>\n",
              "      <td>72.000000</td>\n",
              "      <td>61.2</td>\n",
              "    </tr>\n",
              "    <tr>\n",
              "      <th>2021-03-27</th>\n",
              "      <td>1.0</td>\n",
              "      <td>18.000000</td>\n",
              "      <td>15.3</td>\n",
              "    </tr>\n",
              "    <tr>\n",
              "      <th>2021-03-29</th>\n",
              "      <td>3.0</td>\n",
              "      <td>54.000000</td>\n",
              "      <td>45.9</td>\n",
              "    </tr>\n",
              "    <tr>\n",
              "      <th>2021-04-01</th>\n",
              "      <td>2.0</td>\n",
              "      <td>36.000000</td>\n",
              "      <td>30.6</td>\n",
              "    </tr>\n",
              "    <tr>\n",
              "      <th>...</th>\n",
              "      <th>...</th>\n",
              "      <th>...</th>\n",
              "      <td>...</td>\n",
              "      <td>...</td>\n",
              "      <td>...</td>\n",
              "    </tr>\n",
              "    <tr>\n",
              "      <th rowspan=\"4\" valign=\"top\">z94</th>\n",
              "      <th rowspan=\"4\" valign=\"top\">4</th>\n",
              "      <th>2021-10-30</th>\n",
              "      <td>4.0</td>\n",
              "      <td>121.739130</td>\n",
              "      <td>100.0</td>\n",
              "    </tr>\n",
              "    <tr>\n",
              "      <th>2021-10-31</th>\n",
              "      <td>1.0</td>\n",
              "      <td>30.434783</td>\n",
              "      <td>25.0</td>\n",
              "    </tr>\n",
              "    <tr>\n",
              "      <th>2021-11-01</th>\n",
              "      <td>1.0</td>\n",
              "      <td>30.434783</td>\n",
              "      <td>25.0</td>\n",
              "    </tr>\n",
              "    <tr>\n",
              "      <th>2021-11-04</th>\n",
              "      <td>1.0</td>\n",
              "      <td>30.434783</td>\n",
              "      <td>25.0</td>\n",
              "    </tr>\n",
              "    <tr>\n",
              "      <th>z99</th>\n",
              "      <th>4</th>\n",
              "      <th>2021-01-03</th>\n",
              "      <td>1.0</td>\n",
              "      <td>20.000000</td>\n",
              "      <td>17.0</td>\n",
              "    </tr>\n",
              "  </tbody>\n",
              "</table>\n",
              "<p>113115 rows × 3 columns</p>\n",
              "</div>"
            ],
            "text/plain": [
              "                                   QTY     TTL_VAL  TTL_CST\n",
              "ITEM_ID    SLS_CNTR_ID DATE1                               \n",
              "011810029  4           2021-01-09  2.0   60.000000     51.0\n",
              "0119042512 4           2021-03-26  4.0   72.000000     61.2\n",
              "                       2021-03-27  1.0   18.000000     15.3\n",
              "                       2021-03-29  3.0   54.000000     45.9\n",
              "                       2021-04-01  2.0   36.000000     30.6\n",
              "...                                ...         ...      ...\n",
              "z94        4           2021-10-30  4.0  121.739130    100.0\n",
              "                       2021-10-31  1.0   30.434783     25.0\n",
              "                       2021-11-01  1.0   30.434783     25.0\n",
              "                       2021-11-04  1.0   30.434783     25.0\n",
              "z99        4           2021-01-03  1.0   20.000000     17.0\n",
              "\n",
              "[113115 rows x 3 columns]"
            ]
          },
          "execution_count": 54,
          "metadata": {},
          "output_type": "execute_result"
        }
      ],
      "source": [
        "df.loc[pd.IndexSlice[:,4],:]"
      ]
    },
    {
      "cell_type": "code",
      "execution_count": 55,
      "metadata": {},
      "outputs": [
        {
          "data": {
            "text/html": [
              "<div>\n",
              "<style scoped>\n",
              "    .dataframe tbody tr th:only-of-type {\n",
              "        vertical-align: middle;\n",
              "    }\n",
              "\n",
              "    .dataframe tbody tr th {\n",
              "        vertical-align: top;\n",
              "    }\n",
              "\n",
              "    .dataframe thead th {\n",
              "        text-align: right;\n",
              "    }\n",
              "</style>\n",
              "<table border=\"1\" class=\"dataframe\">\n",
              "  <thead>\n",
              "    <tr style=\"text-align: right;\">\n",
              "      <th></th>\n",
              "      <th>QTY</th>\n",
              "      <th>TTL_VAL</th>\n",
              "      <th>TTL_CST</th>\n",
              "    </tr>\n",
              "    <tr>\n",
              "      <th>DATE1</th>\n",
              "      <th></th>\n",
              "      <th></th>\n",
              "      <th></th>\n",
              "    </tr>\n",
              "  </thead>\n",
              "  <tbody>\n",
              "    <tr>\n",
              "      <th>2021-01-03</th>\n",
              "      <td>1.0</td>\n",
              "      <td>20.0</td>\n",
              "      <td>17.0</td>\n",
              "    </tr>\n",
              "  </tbody>\n",
              "</table>\n",
              "</div>"
            ],
            "text/plain": [
              "            QTY  TTL_VAL  TTL_CST\n",
              "DATE1                            \n",
              "2021-01-03  1.0     20.0     17.0"
            ]
          },
          "execution_count": 55,
          "metadata": {},
          "output_type": "execute_result"
        }
      ],
      "source": [
        "df.loc[('z99',4)]"
      ]
    },
    {
      "cell_type": "code",
      "execution_count": 39,
      "metadata": {
        "id": "ze77qPgmPrM5"
      },
      "outputs": [
        {
          "data": {
            "text/plain": [
              "QTY         16.000000\n",
              "TTL_VAL    112.000000\n",
              "TTL_CST     70.366944\n",
              "dtype: float64"
            ]
          },
          "execution_count": 39,
          "metadata": {},
          "output_type": "execute_result"
        }
      ],
      "source": [
        "df.loc[('95',13)].sum()"
      ]
    },
    {
      "cell_type": "code",
      "execution_count": 40,
      "metadata": {
        "id": "pkiMsIvkRl9s"
      },
      "outputs": [
        {
          "data": {
            "text/plain": [
              "162.0"
            ]
          },
          "execution_count": 40,
          "metadata": {},
          "output_type": "execute_result"
        }
      ],
      "source": [
        "df.loc[('z99',4),:].QTY.sum()"
      ]
    },
    {
      "cell_type": "code",
      "execution_count": 56,
      "metadata": {
        "id": "0R9IG3h6fvkW"
      },
      "outputs": [
        {
          "data": {
            "text/plain": [
              "32.0"
            ]
          },
          "execution_count": 56,
          "metadata": {},
          "output_type": "execute_result"
        }
      ],
      "source": [
        "df[df.index.get_level_values('ITEM_ID').isin(['95', 95]) & df.index.get_level_values('SLS_CNTR_ID').isin([4, '4'])].QTY.sum()"
      ]
    },
    {
      "cell_type": "code",
      "execution_count": 57,
      "metadata": {
        "id": "ot9NrfWEgCVA"
      },
      "outputs": [
        {
          "name": "stdout",
          "output_type": "stream",
          "text": [
            "676  +  1894137  =  1894813\n"
          ]
        }
      ],
      "source": [
        "# level 0 is the first index, in our case it is ITEM_ID\n",
        "x = df[df.index.isin(['95', 'z94'], level='ITEM_ID')]  # Filter dataframe where ITEM_ID is either 95 or z94\n",
        "# x = df[df.index.isin(['95', 'z94'], level=0)]  # level can be defined by either string or index int\n",
        "y = df[~df.index.isin(['95', 'z94'], level=0)] # Filter dataframe where ITEM_ID is neither 95 nor z94\n",
        "print(len(x), \" + \", len(y), \" = \", len(df))"
      ]
    },
    {
      "cell_type": "markdown",
      "metadata": {
        "id": "x2y5xI940lG8"
      },
      "source": [
        "Save to pickle"
      ]
    },
    {
      "cell_type": "code",
      "execution_count": 58,
      "metadata": {
        "id": "nXABxi3R0nFh"
      },
      "outputs": [],
      "source": [
        "with open(path + file + '.pk', 'wb') as f:\n",
        "  pickle.dump(df, f)"
      ]
    },
    {
      "cell_type": "code",
      "execution_count": 44,
      "metadata": {
        "colab": {
          "base_uri": "https://localhost:8080/",
          "height": 424
        },
        "id": "Kbk_rgOKJJPn",
        "outputId": "8c422283-506b-4445-abc5-c5475a3a13df"
      },
      "outputs": [
        {
          "data": {
            "text/html": [
              "<div>\n",
              "<style scoped>\n",
              "    .dataframe tbody tr th:only-of-type {\n",
              "        vertical-align: middle;\n",
              "    }\n",
              "\n",
              "    .dataframe tbody tr th {\n",
              "        vertical-align: top;\n",
              "    }\n",
              "\n",
              "    .dataframe thead th {\n",
              "        text-align: right;\n",
              "    }\n",
              "</style>\n",
              "<table border=\"1\" class=\"dataframe\">\n",
              "  <thead>\n",
              "    <tr style=\"text-align: right;\">\n",
              "      <th></th>\n",
              "      <th></th>\n",
              "      <th></th>\n",
              "      <th>QTY</th>\n",
              "      <th>TTL_VAL</th>\n",
              "      <th>TTL_CST</th>\n",
              "    </tr>\n",
              "    <tr>\n",
              "      <th>ITEM_ID</th>\n",
              "      <th>SLS_CNTR_ID</th>\n",
              "      <th>DATE1</th>\n",
              "      <th></th>\n",
              "      <th></th>\n",
              "      <th></th>\n",
              "    </tr>\n",
              "  </thead>\n",
              "  <tbody>\n",
              "    <tr>\n",
              "      <th rowspan=\"5\" valign=\"top\">00110024</th>\n",
              "      <th rowspan=\"5\" valign=\"top\">1</th>\n",
              "      <th>2020-07-22</th>\n",
              "      <td>1.0</td>\n",
              "      <td>46.086950</td>\n",
              "      <td>32.25</td>\n",
              "    </tr>\n",
              "    <tr>\n",
              "      <th>2020-09-10</th>\n",
              "      <td>1.0</td>\n",
              "      <td>46.086950</td>\n",
              "      <td>32.25</td>\n",
              "    </tr>\n",
              "    <tr>\n",
              "      <th>2020-09-16</th>\n",
              "      <td>1.0</td>\n",
              "      <td>46.086950</td>\n",
              "      <td>32.25</td>\n",
              "    </tr>\n",
              "    <tr>\n",
              "      <th>2020-09-18</th>\n",
              "      <td>1.0</td>\n",
              "      <td>46.086950</td>\n",
              "      <td>32.25</td>\n",
              "    </tr>\n",
              "    <tr>\n",
              "      <th>2020-09-20</th>\n",
              "      <td>0.0</td>\n",
              "      <td>-4.608695</td>\n",
              "      <td>0.00</td>\n",
              "    </tr>\n",
              "    <tr>\n",
              "      <th>...</th>\n",
              "      <th>...</th>\n",
              "      <th>...</th>\n",
              "      <td>...</td>\n",
              "      <td>...</td>\n",
              "      <td>...</td>\n",
              "    </tr>\n",
              "    <tr>\n",
              "      <th rowspan=\"5\" valign=\"top\">z99</th>\n",
              "      <th rowspan=\"5\" valign=\"top\">18</th>\n",
              "      <th>2020-09-12</th>\n",
              "      <td>4.0</td>\n",
              "      <td>80.000000</td>\n",
              "      <td>68.00</td>\n",
              "    </tr>\n",
              "    <tr>\n",
              "      <th>2020-09-17</th>\n",
              "      <td>1.0</td>\n",
              "      <td>20.000000</td>\n",
              "      <td>17.00</td>\n",
              "    </tr>\n",
              "    <tr>\n",
              "      <th>2020-09-18</th>\n",
              "      <td>3.0</td>\n",
              "      <td>60.000000</td>\n",
              "      <td>51.00</td>\n",
              "    </tr>\n",
              "    <tr>\n",
              "      <th>2020-09-23</th>\n",
              "      <td>2.0</td>\n",
              "      <td>40.000000</td>\n",
              "      <td>34.00</td>\n",
              "    </tr>\n",
              "    <tr>\n",
              "      <th>2020-09-24</th>\n",
              "      <td>3.0</td>\n",
              "      <td>60.000000</td>\n",
              "      <td>51.00</td>\n",
              "    </tr>\n",
              "  </tbody>\n",
              "</table>\n",
              "<p>1762154 rows × 3 columns</p>\n",
              "</div>"
            ],
            "text/plain": [
              "                                 QTY    TTL_VAL  TTL_CST\n",
              "ITEM_ID  SLS_CNTR_ID DATE1                              \n",
              "00110024 1           2020-07-22  1.0  46.086950    32.25\n",
              "                     2020-09-10  1.0  46.086950    32.25\n",
              "                     2020-09-16  1.0  46.086950    32.25\n",
              "                     2020-09-18  1.0  46.086950    32.25\n",
              "                     2020-09-20  0.0  -4.608695     0.00\n",
              "...                              ...        ...      ...\n",
              "z99      18          2020-09-12  4.0  80.000000    68.00\n",
              "                     2020-09-17  1.0  20.000000    17.00\n",
              "                     2020-09-18  3.0  60.000000    51.00\n",
              "                     2020-09-23  2.0  40.000000    34.00\n",
              "                     2020-09-24  3.0  60.000000    51.00\n",
              "\n",
              "[1762154 rows x 3 columns]"
            ]
          },
          "execution_count": 44,
          "metadata": {},
          "output_type": "execute_result"
        }
      ],
      "source": [
        "df"
      ]
    },
    {
      "cell_type": "markdown",
      "metadata": {
        "id": "LghLw6dRhYqr"
      },
      "source": [
        "Filter df with some data"
      ]
    },
    {
      "cell_type": "code",
      "execution_count": 39,
      "metadata": {
        "id": "fL0yFtqbzU2Z"
      },
      "outputs": [],
      "source": [
        "mask = df[(df.index.isin(['95', 'z94'], level=0)) & \n",
        "          ((df.index.get_level_values('DATE1').dayofweek == 4) | (df.index.get_level_values('DATE1').dayofweek == 5)\n",
        "          )] # Monday=0, Sunday=6\n",
        "#mask = df[~df.index.get_level_values('ITEM_ID').isin(['95', 'z94'])]"
      ]
    },
    {
      "cell_type": "code",
      "execution_count": 40,
      "metadata": {
        "colab": {
          "base_uri": "https://localhost:8080/",
          "height": 254
        },
        "id": "Kh7WAVoResMF",
        "outputId": "ac7e36f4-2784-4993-c2b9-567e9b49b510"
      },
      "outputs": [
        {
          "data": {
            "text/html": [
              "<div>\n",
              "<style scoped>\n",
              "    .dataframe tbody tr th:only-of-type {\n",
              "        vertical-align: middle;\n",
              "    }\n",
              "\n",
              "    .dataframe tbody tr th {\n",
              "        vertical-align: top;\n",
              "    }\n",
              "\n",
              "    .dataframe thead th {\n",
              "        text-align: right;\n",
              "    }\n",
              "</style>\n",
              "<table border=\"1\" class=\"dataframe\">\n",
              "  <thead>\n",
              "    <tr style=\"text-align: right;\">\n",
              "      <th>DATE1</th>\n",
              "      <th>2016-03-05</th>\n",
              "      <th>2016-04-23</th>\n",
              "      <th>2016-04-29</th>\n",
              "      <th>2016-04-30</th>\n",
              "      <th>2016-05-06</th>\n",
              "      <th>2016-05-07</th>\n",
              "      <th>2016-05-13</th>\n",
              "      <th>2016-05-14</th>\n",
              "      <th>2016-05-21</th>\n",
              "      <th>2017-09-29</th>\n",
              "      <th>...</th>\n",
              "      <th>2018-11-30</th>\n",
              "      <th>2018-12-01</th>\n",
              "      <th>2018-12-07</th>\n",
              "      <th>2018-12-08</th>\n",
              "      <th>2018-12-14</th>\n",
              "      <th>2018-12-15</th>\n",
              "      <th>2018-12-21</th>\n",
              "      <th>2018-12-22</th>\n",
              "      <th>2018-12-28</th>\n",
              "      <th>2018-12-29</th>\n",
              "    </tr>\n",
              "    <tr>\n",
              "      <th>ITEM_ID</th>\n",
              "      <th></th>\n",
              "      <th></th>\n",
              "      <th></th>\n",
              "      <th></th>\n",
              "      <th></th>\n",
              "      <th></th>\n",
              "      <th></th>\n",
              "      <th></th>\n",
              "      <th></th>\n",
              "      <th></th>\n",
              "      <th></th>\n",
              "      <th></th>\n",
              "      <th></th>\n",
              "      <th></th>\n",
              "      <th></th>\n",
              "      <th></th>\n",
              "      <th></th>\n",
              "      <th></th>\n",
              "      <th></th>\n",
              "      <th></th>\n",
              "      <th></th>\n",
              "    </tr>\n",
              "  </thead>\n",
              "  <tbody>\n",
              "    <tr>\n",
              "      <th>95</th>\n",
              "      <td>2.0</td>\n",
              "      <td>1.0</td>\n",
              "      <td>3.0</td>\n",
              "      <td>6.0</td>\n",
              "      <td>1.0</td>\n",
              "      <td>4.0</td>\n",
              "      <td>5.0</td>\n",
              "      <td>3.0</td>\n",
              "      <td>1.0</td>\n",
              "      <td>2.0</td>\n",
              "      <td>...</td>\n",
              "      <td>0.0</td>\n",
              "      <td>0.0</td>\n",
              "      <td>0.0</td>\n",
              "      <td>0.0</td>\n",
              "      <td>0.0</td>\n",
              "      <td>0.0</td>\n",
              "      <td>0.0</td>\n",
              "      <td>2.0</td>\n",
              "      <td>1.0</td>\n",
              "      <td>69.0</td>\n",
              "    </tr>\n",
              "    <tr>\n",
              "      <th>z94</th>\n",
              "      <td>0.0</td>\n",
              "      <td>0.0</td>\n",
              "      <td>0.0</td>\n",
              "      <td>0.0</td>\n",
              "      <td>0.0</td>\n",
              "      <td>0.0</td>\n",
              "      <td>0.0</td>\n",
              "      <td>0.0</td>\n",
              "      <td>0.0</td>\n",
              "      <td>0.0</td>\n",
              "      <td>...</td>\n",
              "      <td>13.0</td>\n",
              "      <td>11.0</td>\n",
              "      <td>8.0</td>\n",
              "      <td>8.0</td>\n",
              "      <td>5.0</td>\n",
              "      <td>9.0</td>\n",
              "      <td>4.0</td>\n",
              "      <td>4.0</td>\n",
              "      <td>8.0</td>\n",
              "      <td>13.0</td>\n",
              "    </tr>\n",
              "  </tbody>\n",
              "</table>\n",
              "<p>2 rows × 93 columns</p>\n",
              "</div>"
            ],
            "text/plain": [
              "DATE1    2016-03-05  2016-04-23  2016-04-29  2016-04-30  2016-05-06  \\\n",
              "ITEM_ID                                                               \n",
              "95              2.0         1.0         3.0         6.0         1.0   \n",
              "z94             0.0         0.0         0.0         0.0         0.0   \n",
              "\n",
              "DATE1    2016-05-07  2016-05-13  2016-05-14  2016-05-21  2017-09-29  ...  \\\n",
              "ITEM_ID                                                              ...   \n",
              "95              4.0         5.0         3.0         1.0         2.0  ...   \n",
              "z94             0.0         0.0         0.0         0.0         0.0  ...   \n",
              "\n",
              "DATE1    2018-11-30  2018-12-01  2018-12-07  2018-12-08  2018-12-14  \\\n",
              "ITEM_ID                                                               \n",
              "95              0.0         0.0         0.0         0.0         0.0   \n",
              "z94            13.0        11.0         8.0         8.0         5.0   \n",
              "\n",
              "DATE1    2018-12-15  2018-12-21  2018-12-22  2018-12-28  2018-12-29  \n",
              "ITEM_ID                                                              \n",
              "95              0.0         0.0         2.0         1.0        69.0  \n",
              "z94             9.0         4.0         4.0         8.0        13.0  \n",
              "\n",
              "[2 rows x 93 columns]"
            ]
          },
          "execution_count": 40,
          "metadata": {},
          "output_type": "execute_result"
        }
      ],
      "source": [
        "table = mask.pivot_table(\n",
        "        values='QTY', \n",
        "        index=['ITEM_ID'],\n",
        "       # columns=['SLS_CNTR_ID'],\n",
        "       columns=['DATE1'], \n",
        "        aggfunc='sum', \n",
        "    )\n",
        "# replace NAN with 0\n",
        "table = table.replace(np.nan, 0)\n",
        "table\n",
        "\n",
        "# Numbers format can be done also as:\n",
        "#with pd.option_context('display.float_format', '#{:0.2f}'.format):\n",
        "#  print(table)"
      ]
    },
    {
      "cell_type": "code",
      "execution_count": 50,
      "metadata": {
        "colab": {
          "base_uri": "https://localhost:8080/",
          "height": 297
        },
        "id": "pKyfSegmAv4l",
        "outputId": "c873d22c-2a56-4ef9-b062-526d21b1979c"
      },
      "outputs": [
        {
          "data": {
            "text/plain": [
              "<AxesSubplot:xlabel='DATE1', ylabel='QTY'>"
            ]
          },
          "execution_count": 50,
          "metadata": {},
          "output_type": "execute_result"
        },
        {
          "data": {
            "image/png": "[encoded data removed]",
            "text/plain": [
              "<Figure size 1440x360 with 1 Axes>"
            ]
          },
          "metadata": {},
          "output_type": "display_data"
        }
      ],
      "source": [
        "sns.set_style(\"whitegrid\")\n",
        "plt.rcParams['figure.figsize'] = [20, 5] #  [width, height]  \n",
        "sns.boxplot(x = df.index.get_level_values('DATE1'),  # ('SLS_CNTR_ID')\n",
        "            y = 'QTY',\n",
        "            data = df, palette=\"Blues\", width=0.3)"
      ]
    },
    {
      "cell_type": "code",
      "execution_count": 49,
      "metadata": {
        "colab": {
          "base_uri": "https://localhost:8080/",
          "height": 313
        },
        "id": "f3N_TIFhzj_J",
        "outputId": "a7bf39a5-e9bd-45b6-d9fb-e7acab87c15e"
      },
      "outputs": [
        {
          "data": {
            "text/plain": [
              "<AxesSubplot:xlabel='DATE1', ylabel='QTY'>"
            ]
          },
          "execution_count": 49,
          "metadata": {},
          "output_type": "execute_result"
        },
        {
          "data": {
            "image/png": "[encoded data removed]",
            "text/plain": [
              "<Figure size 1440x360 with 1 Axes>"
            ]
          },
          "metadata": {},
          "output_type": "display_data"
        }
      ],
      "source": [
        "sns.set_style(\"whitegrid\")\n",
        "plt.rcParams['figure.figsize'] = [20, 5] #  [width, height]  \n",
        "sns.lineplot(x = df.index.get_level_values('DATE1'),  # ('SLS_CNTR_ID')\n",
        "            y = 'QTY',\n",
        "            data = df)"
      ]
    },
    {
      "cell_type": "code",
      "execution_count": 52,
      "metadata": {
        "colab": {
          "base_uri": "https://localhost:8080/",
          "height": 381
        },
        "id": "29GBO-ASCnG7",
        "outputId": "9c836bac-6a06-428e-d7c7-828bee66be31"
      },
      "outputs": [],
      "source": [
        "#mask = df[df.index.get_level_values('ITEM_ID').isin(['95', 'z94'])]\n",
        "mask = df\n",
        "ax = mask.unstack(level='SLS_CNTR_ID').plot(kind='bar', subplots=True, rot=0, figsize=(18, 4), layout=(7, 10))\n",
        "plt.tight_layout()"
      ]
    }
  ],
  "metadata": {
    "accelerator": "GPU",
    "colab": {
      "collapsed_sections": [],
      "include_colab_link": true,
      "name": "01_CheckGatheredData",
      "provenance": []
    },
    "kernelspec": {
      "display_name": "Python 3.10.6 64-bit",
      "language": "python",
      "name": "python3"
    },
    "language_info": {
      "codemirror_mode": {
        "name": "ipython",
        "version": 3
      },
      "file_extension": ".py",
      "mimetype": "text/x-python",
      "name": "python",
      "nbconvert_exporter": "python",
      "pygments_lexer": "ipython3",
      "version": "3.10.6"
    },
    "vscode": {
      "interpreter": {
        "hash": "bc0b001817e7c413849f11d839b6737d98e9ccaa76f82aa50099d6dc45da22d0"
      }
    }
  },
  "nbformat": 4,
  "nbformat_minor": 0
}
