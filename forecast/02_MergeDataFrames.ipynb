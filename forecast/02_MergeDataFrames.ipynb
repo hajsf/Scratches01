{
  "cells": [
    {
      "cell_type": "markdown",
      "metadata": {
        "colab_type": "text",
        "id": "view-in-github"
      },
      "source": [
        "<a href=\"https://colab.research.google.com/github/hajsf/Time-Series-Forecast/blob/main/02_MergeDataFrames.ipynb\" target=\"_parent\"><img src=\"https://colab.research.google.com/assets/colab-badge.svg\" alt=\"Open In Colab\"/></a>"
      ]
    },
    {
      "cell_type": "code",
      "execution_count": 1,
      "metadata": {
        "id": "vFgtZTRq63k5"
      },
      "outputs": [],
      "source": [
        "import pandas as pd \n",
        "import numpy as np\n",
        "import pickle"
      ]
    },
    {
      "cell_type": "markdown",
      "metadata": {
        "id": "ExreCoBoa1b9"
      },
      "source": [
        "**Read the dataframe from the pickle file**\n",
        "\n",
        "\n",
        "\n"
      ]
    },
    {
      "cell_type": "code",
      "execution_count": 2,
      "metadata": {
        "id": "vrDDwi4cywry"
      },
      "outputs": [],
      "source": [
        "path = \"data/\""
      ]
    },
    {
      "cell_type": "code",
      "execution_count": 4,
      "metadata": {
        "colab": {
          "base_uri": "https://localhost:8080/"
        },
        "id": "YgQJlLZbCGOE",
        "outputId": "cda8b7c1-c6ff-4d4b-d20f-0b04c5649c3d"
      },
      "outputs": [
        {
          "name": "stdout",
          "output_type": "stream",
          "text": [
            "number of records: 900898\n"
          ]
        }
      ],
      "source": [
        "with open(path + '2022Sales.pk', 'rb') as f:\n",
        "  data2022 = pickle.load(f)\n",
        "print(\"number of records:\", len(data2022))"
      ]
    },
    {
      "cell_type": "code",
      "execution_count": 3,
      "metadata": {
        "colab": {
          "base_uri": "https://localhost:8080/"
        },
        "id": "QsVShyePhWHi",
        "outputId": "6e77d5ad-3635-4dac-b1ef-9435713e2e03"
      },
      "outputs": [
        {
          "name": "stdout",
          "output_type": "stream",
          "text": [
            "number of records: 1894813\n"
          ]
        }
      ],
      "source": [
        "with open(path + '2021Sales.pk', 'rb') as f:\n",
        "  data2021 = pickle.load(f)\n",
        "print(\"number of records:\", len(data2021))"
      ]
    },
    {
      "cell_type": "code",
      "execution_count": 4,
      "metadata": {
        "colab": {
          "base_uri": "https://localhost:8080/"
        },
        "id": "C085MZFIhYu-",
        "outputId": "c6ffde52-fcda-42d2-df19-d20c7cf36d10"
      },
      "outputs": [
        {
          "name": "stdout",
          "output_type": "stream",
          "text": [
            "number of records: 1762154\n"
          ]
        }
      ],
      "source": [
        "with open(path + '2020Sales.pk', 'rb') as f:\n",
        "  data2020 = pickle.load(f)\n",
        "print(\"number of records:\", len(data2020))"
      ]
    },
    {
      "cell_type": "code",
      "execution_count": 5,
      "metadata": {
        "colab": {
          "base_uri": "https://localhost:8080/"
        },
        "id": "TADafPfchaq2",
        "outputId": "f5ee70b5-a967-4139-db3c-9cc169723b59"
      },
      "outputs": [
        {
          "name": "stdout",
          "output_type": "stream",
          "text": [
            "number of records: 1478528\n"
          ]
        }
      ],
      "source": [
        "with open(path + '2019Sales.pk', 'rb') as f:\n",
        "  data2019 = pickle.load(f)\n",
        "print(\"number of records:\", len(data2019))"
      ]
    },
    {
      "cell_type": "code",
      "execution_count": 6,
      "metadata": {
        "id": "5Xnx-QGyhdYd"
      },
      "outputs": [
        {
          "name": "stdout",
          "output_type": "stream",
          "text": [
            "number of records: 1252038\n"
          ]
        }
      ],
      "source": [
        "with open(path + '20161718Sales.pk', 'rb') as f:\n",
        "  data20161718 = pickle.load(f)\n",
        "print(\"number of records:\", len(data20161718))"
      ]
    },
    {
      "cell_type": "code",
      "execution_count": 7,
      "metadata": {
        "id": "jdlhMz0GhgSj"
      },
      "outputs": [],
      "source": [
        "frames = [data2021, data2020, data2019, data20161718]"
      ]
    },
    {
      "cell_type": "code",
      "execution_count": 8,
      "metadata": {
        "colab": {
          "base_uri": "https://localhost:8080/"
        },
        "id": "qCM2WIKuiDty",
        "outputId": "115af5c1-684a-4d78-fb00-7da9560c1896"
      },
      "outputs": [
        {
          "name": "stdout",
          "output_type": "stream",
          "text": [
            "number of records: 6387533\n"
          ]
        }
      ],
      "source": [
        "data = pd.concat(frames) #, keys=['ITEM_ID', 'SLS_CNTR_ID', 'DATE1'])\n",
        "print(\"number of records:\", len(data))"
      ]
    },
    {
      "cell_type": "code",
      "execution_count": null,
      "metadata": {
        "id": "I-39eKo34Tj8"
      },
      "outputs": [],
      "source": [
        "#data[['SLS_CNTR_ID']] = data[['SLS_CNTR_ID']].astype(int, errors = 'raise')"
      ]
    },
    {
      "cell_type": "code",
      "execution_count": 9,
      "metadata": {
        "colab": {
          "base_uri": "https://localhost:8080/"
        },
        "id": "_Z6P1TQo3yZN",
        "outputId": "4842de32-310f-4bd1-9ce1-aed726520f47"
      },
      "outputs": [
        {
          "data": {
            "text/plain": [
              "QTY        float64\n",
              "TTL_VAL    float64\n",
              "TTL_CST    float64\n",
              "dtype: object"
            ]
          },
          "execution_count": 9,
          "metadata": {},
          "output_type": "execute_result"
        }
      ],
      "source": [
        "data.dtypes"
      ]
    },
    {
      "cell_type": "code",
      "execution_count": 10,
      "metadata": {
        "colab": {
          "base_uri": "https://localhost:8080/",
          "height": 206
        },
        "id": "5Kx3dHIZDetE",
        "outputId": "b76893f9-6851-47b4-d904-6193caa9afa0"
      },
      "outputs": [
        {
          "data": {
            "text/html": [
              "<div>\n",
              "<style scoped>\n",
              "    .dataframe tbody tr th:only-of-type {\n",
              "        vertical-align: middle;\n",
              "    }\n",
              "\n",
              "    .dataframe tbody tr th {\n",
              "        vertical-align: top;\n",
              "    }\n",
              "\n",
              "    .dataframe thead th {\n",
              "        text-align: right;\n",
              "    }\n",
              "</style>\n",
              "<table border=\"1\" class=\"dataframe\">\n",
              "  <thead>\n",
              "    <tr style=\"text-align: right;\">\n",
              "      <th></th>\n",
              "      <th></th>\n",
              "      <th></th>\n",
              "      <th>QTY</th>\n",
              "      <th>TTL_VAL</th>\n",
              "      <th>TTL_CST</th>\n",
              "    </tr>\n",
              "    <tr>\n",
              "      <th>ITEM_ID</th>\n",
              "      <th>SLS_CNTR_ID</th>\n",
              "      <th>DATE1</th>\n",
              "      <th></th>\n",
              "      <th></th>\n",
              "      <th></th>\n",
              "    </tr>\n",
              "  </thead>\n",
              "  <tbody>\n",
              "    <tr>\n",
              "      <th rowspan=\"5\" valign=\"top\">0020</th>\n",
              "      <th rowspan=\"5\" valign=\"top\">13</th>\n",
              "      <th>2021-01-03</th>\n",
              "      <td>1.0</td>\n",
              "      <td>35.0</td>\n",
              "      <td>26.25</td>\n",
              "    </tr>\n",
              "    <tr>\n",
              "      <th>2021-01-08</th>\n",
              "      <td>1.0</td>\n",
              "      <td>35.0</td>\n",
              "      <td>26.25</td>\n",
              "    </tr>\n",
              "    <tr>\n",
              "      <th>2021-01-12</th>\n",
              "      <td>1.0</td>\n",
              "      <td>35.0</td>\n",
              "      <td>26.25</td>\n",
              "    </tr>\n",
              "    <tr>\n",
              "      <th>2021-01-14</th>\n",
              "      <td>1.0</td>\n",
              "      <td>35.0</td>\n",
              "      <td>26.25</td>\n",
              "    </tr>\n",
              "    <tr>\n",
              "      <th>2021-01-17</th>\n",
              "      <td>1.0</td>\n",
              "      <td>35.0</td>\n",
              "      <td>26.25</td>\n",
              "    </tr>\n",
              "  </tbody>\n",
              "</table>\n",
              "</div>"
            ],
            "text/plain": [
              "                                QTY  TTL_VAL  TTL_CST\n",
              "ITEM_ID SLS_CNTR_ID DATE1                            \n",
              "0020    13          2021-01-03  1.0     35.0    26.25\n",
              "                    2021-01-08  1.0     35.0    26.25\n",
              "                    2021-01-12  1.0     35.0    26.25\n",
              "                    2021-01-14  1.0     35.0    26.25\n",
              "                    2021-01-17  1.0     35.0    26.25"
            ]
          },
          "execution_count": 10,
          "metadata": {},
          "output_type": "execute_result"
        }
      ],
      "source": [
        "data.head()"
      ]
    },
    {
      "cell_type": "markdown",
      "metadata": {
        "id": "5YtqM2lM5fJN"
      },
      "source": [
        "**Save dataframe to pickle file**"
      ]
    },
    {
      "cell_type": "code",
      "execution_count": 11,
      "metadata": {
        "id": "YptRks025UF0"
      },
      "outputs": [],
      "source": [
        "with open(path + 'data.pk', 'wb') as f:\n",
        "  pickle.dump(data, f)"
      ]
    }
  ],
  "metadata": {
    "accelerator": "GPU",
    "colab": {
      "collapsed_sections": [],
      "include_colab_link": true,
      "name": "02_MergeDataFrames",
      "provenance": []
    },
    "kernelspec": {
      "display_name": "Python 3.10.6 64-bit",
      "language": "python",
      "name": "python3"
    },
    "language_info": {
      "codemirror_mode": {
        "name": "ipython",
        "version": 3
      },
      "file_extension": ".py",
      "mimetype": "text/x-python",
      "name": "python",
      "nbconvert_exporter": "python",
      "pygments_lexer": "ipython3",
      "version": "3.10.6"
    },
    "vscode": {
      "interpreter": {
        "hash": "bc0b001817e7c413849f11d839b6737d98e9ccaa76f82aa50099d6dc45da22d0"
      }
    }
  },
  "nbformat": 4,
  "nbformat_minor": 0
}
